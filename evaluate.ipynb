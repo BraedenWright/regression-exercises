{
 "cells": [
  {
   "cell_type": "markdown",
   "id": "e5958623",
   "metadata": {},
   "source": [
    "# Imports"
   ]
  },
  {
   "cell_type": "code",
   "execution_count": 1,
   "id": "0f307b74",
   "metadata": {},
   "outputs": [],
   "source": [
    "# Foundation\n",
    "import numpy as np\n",
    "import pandas as pd\n",
    "from pydataset import data\n",
    "\n",
    "# Vizualize\n",
    "import matplotlib.pyplot as plt\n",
    "import seaborn as sns\n",
    "\n",
    "# Math\n",
    "from math import sqrt\n",
    "from scipy import stats\n",
    "from sklearn.metrics import mean_squared_error, r2_score\n",
    "from sklearn.linear_model import LinearRegression\n",
    "\n",
    "# Custom\n",
    "import wrangle as wrg\n",
    "import explore as exp\n",
    "import evaluate as eva"
   ]
  },
  {
   "cell_type": "markdown",
   "id": "5ae59c7b",
   "metadata": {},
   "source": [
    "# Exercise 1 & 2\n",
    "\n",
    "- Load the tips dataset from either pydataset or seaborn.\n",
    "\n",
    "- Fit a linear regression model (ordinary least squares) and compute yhat, predictions of tip using total_bill. "
   ]
  },
  {
   "cell_type": "code",
   "execution_count": 2,
   "id": "f11fae93",
   "metadata": {},
   "outputs": [
    {
     "data": {
      "text/html": [
       "<div>\n",
       "<style scoped>\n",
       "    .dataframe tbody tr th:only-of-type {\n",
       "        vertical-align: middle;\n",
       "    }\n",
       "\n",
       "    .dataframe tbody tr th {\n",
       "        vertical-align: top;\n",
       "    }\n",
       "\n",
       "    .dataframe thead th {\n",
       "        text-align: right;\n",
       "    }\n",
       "</style>\n",
       "<table border=\"1\" class=\"dataframe\">\n",
       "  <thead>\n",
       "    <tr style=\"text-align: right;\">\n",
       "      <th></th>\n",
       "      <th>total_bill</th>\n",
       "      <th>tip</th>\n",
       "      <th>sex</th>\n",
       "      <th>smoker</th>\n",
       "      <th>day</th>\n",
       "      <th>time</th>\n",
       "      <th>size</th>\n",
       "    </tr>\n",
       "  </thead>\n",
       "  <tbody>\n",
       "    <tr>\n",
       "      <th>1</th>\n",
       "      <td>16.99</td>\n",
       "      <td>1.01</td>\n",
       "      <td>Female</td>\n",
       "      <td>No</td>\n",
       "      <td>Sun</td>\n",
       "      <td>Dinner</td>\n",
       "      <td>2</td>\n",
       "    </tr>\n",
       "    <tr>\n",
       "      <th>2</th>\n",
       "      <td>10.34</td>\n",
       "      <td>1.66</td>\n",
       "      <td>Male</td>\n",
       "      <td>No</td>\n",
       "      <td>Sun</td>\n",
       "      <td>Dinner</td>\n",
       "      <td>3</td>\n",
       "    </tr>\n",
       "    <tr>\n",
       "      <th>3</th>\n",
       "      <td>21.01</td>\n",
       "      <td>3.50</td>\n",
       "      <td>Male</td>\n",
       "      <td>No</td>\n",
       "      <td>Sun</td>\n",
       "      <td>Dinner</td>\n",
       "      <td>3</td>\n",
       "    </tr>\n",
       "  </tbody>\n",
       "</table>\n",
       "</div>"
      ],
      "text/plain": [
       "   total_bill   tip     sex smoker  day    time  size\n",
       "1       16.99  1.01  Female     No  Sun  Dinner     2\n",
       "2       10.34  1.66    Male     No  Sun  Dinner     3\n",
       "3       21.01  3.50    Male     No  Sun  Dinner     3"
      ]
     },
     "execution_count": 2,
     "metadata": {},
     "output_type": "execute_result"
    }
   ],
   "source": [
    "# load tips dataset\n",
    "\n",
    "df = data('tips')\n",
    "df.head(3)"
   ]
  },
  {
   "cell_type": "code",
   "execution_count": 3,
   "id": "26e3dc44",
   "metadata": {},
   "outputs": [],
   "source": [
    "# Fit a linear regression model\n",
    "\n",
    "# Build it\n",
    "lm = LinearRegression(normalize=True)\n",
    "\n",
    "# Fit it\n",
    "lm.fit(df[['total_bill']], df['tip'])\n",
    "\n",
    "# Predict\n",
    "df['yhat'] = lm.predict(df[['total_bill']])"
   ]
  },
  {
   "cell_type": "code",
   "execution_count": 4,
   "id": "9b3a67ce",
   "metadata": {},
   "outputs": [],
   "source": [
    "# Create a baseline\n",
    "df[['baseline']] = df[['tip']].mean()"
   ]
  },
  {
   "cell_type": "code",
   "execution_count": 5,
   "id": "ab481bdf",
   "metadata": {},
   "outputs": [
    {
     "data": {
      "text/html": [
       "<div>\n",
       "<style scoped>\n",
       "    .dataframe tbody tr th:only-of-type {\n",
       "        vertical-align: middle;\n",
       "    }\n",
       "\n",
       "    .dataframe tbody tr th {\n",
       "        vertical-align: top;\n",
       "    }\n",
       "\n",
       "    .dataframe thead th {\n",
       "        text-align: right;\n",
       "    }\n",
       "</style>\n",
       "<table border=\"1\" class=\"dataframe\">\n",
       "  <thead>\n",
       "    <tr style=\"text-align: right;\">\n",
       "      <th></th>\n",
       "      <th>total_bill</th>\n",
       "      <th>tip</th>\n",
       "      <th>sex</th>\n",
       "      <th>smoker</th>\n",
       "      <th>day</th>\n",
       "      <th>time</th>\n",
       "      <th>size</th>\n",
       "      <th>yhat</th>\n",
       "      <th>baseline</th>\n",
       "    </tr>\n",
       "  </thead>\n",
       "  <tbody>\n",
       "    <tr>\n",
       "      <th>1</th>\n",
       "      <td>16.99</td>\n",
       "      <td>1.01</td>\n",
       "      <td>Female</td>\n",
       "      <td>No</td>\n",
       "      <td>Sun</td>\n",
       "      <td>Dinner</td>\n",
       "      <td>2</td>\n",
       "      <td>2.704636</td>\n",
       "      <td>2.998279</td>\n",
       "    </tr>\n",
       "    <tr>\n",
       "      <th>2</th>\n",
       "      <td>10.34</td>\n",
       "      <td>1.66</td>\n",
       "      <td>Male</td>\n",
       "      <td>No</td>\n",
       "      <td>Sun</td>\n",
       "      <td>Dinner</td>\n",
       "      <td>3</td>\n",
       "      <td>2.006223</td>\n",
       "      <td>2.998279</td>\n",
       "    </tr>\n",
       "    <tr>\n",
       "      <th>3</th>\n",
       "      <td>21.01</td>\n",
       "      <td>3.50</td>\n",
       "      <td>Male</td>\n",
       "      <td>No</td>\n",
       "      <td>Sun</td>\n",
       "      <td>Dinner</td>\n",
       "      <td>3</td>\n",
       "      <td>3.126835</td>\n",
       "      <td>2.998279</td>\n",
       "    </tr>\n",
       "  </tbody>\n",
       "</table>\n",
       "</div>"
      ],
      "text/plain": [
       "   total_bill   tip     sex smoker  day    time  size      yhat  baseline\n",
       "1       16.99  1.01  Female     No  Sun  Dinner     2  2.704636  2.998279\n",
       "2       10.34  1.66    Male     No  Sun  Dinner     3  2.006223  2.998279\n",
       "3       21.01  3.50    Male     No  Sun  Dinner     3  3.126835  2.998279"
      ]
     },
     "execution_count": 5,
     "metadata": {},
     "output_type": "execute_result"
    }
   ],
   "source": [
    "df.head(3)"
   ]
  },
  {
   "cell_type": "markdown",
   "id": "175bdd20",
   "metadata": {},
   "source": [
    "# Exercise 3\n",
    "\n",
    "- Plot the residuals for the linear regression model that you made.\n"
   ]
  },
  {
   "cell_type": "code",
   "execution_count": 6,
   "id": "6f394354",
   "metadata": {},
   "outputs": [
    {
     "data": {
      "image/png": "[encoded data removed]",
      "text/plain": [
       "<Figure size 432x288 with 1 Axes>"
      ]
     },
     "metadata": {
      "needs_background": "light"
     },
     "output_type": "display_data"
    }
   ],
   "source": [
    "# Lets visualize the data\n",
    "\n",
    "sns.scatterplot(x='total_bill', y='tip', data=df)\n",
    "sns.lineplot(x='total_bill', y='yhat', data=df, color='orange')\n",
    "plt.axhline(y=3, ls=':')\n",
    "plt.xlabel('Total Bill')\n",
    "plt.ylabel('Tip Amount')\n",
    "plt.title('Regression Model for Tips')\n",
    "\n",
    "plt.show()"
   ]
  },
  {
   "cell_type": "code",
   "execution_count": 7,
   "id": "339f013f",
   "metadata": {},
   "outputs": [],
   "source": [
    "# Add residuals to our data for evaluation\n",
    "\n",
    "df['residual'] = df['tip'] - df['yhat']\n",
    "\n",
    "# Compare to baseline\n",
    "df['baseline_residual'] = df['tip'] - df['baseline']"
   ]
  },
  {
   "cell_type": "code",
   "execution_count": 8,
   "id": "1c6d5cf7",
   "metadata": {},
   "outputs": [
    {
     "data": {
      "text/html": [
       "<div>\n",
       "<style scoped>\n",
       "    .dataframe tbody tr th:only-of-type {\n",
       "        vertical-align: middle;\n",
       "    }\n",
       "\n",
       "    .dataframe tbody tr th {\n",
       "        vertical-align: top;\n",
       "    }\n",
       "\n",
       "    .dataframe thead th {\n",
       "        text-align: right;\n",
       "    }\n",
       "</style>\n",
       "<table border=\"1\" class=\"dataframe\">\n",
       "  <thead>\n",
       "    <tr style=\"text-align: right;\">\n",
       "      <th></th>\n",
       "      <th>total_bill</th>\n",
       "      <th>tip</th>\n",
       "      <th>sex</th>\n",
       "      <th>smoker</th>\n",
       "      <th>day</th>\n",
       "      <th>time</th>\n",
       "      <th>size</th>\n",
       "      <th>yhat</th>\n",
       "      <th>baseline</th>\n",
       "      <th>residual</th>\n",
       "      <th>baseline_residual</th>\n",
       "    </tr>\n",
       "  </thead>\n",
       "  <tbody>\n",
       "    <tr>\n",
       "      <th>1</th>\n",
       "      <td>16.99</td>\n",
       "      <td>1.01</td>\n",
       "      <td>Female</td>\n",
       "      <td>No</td>\n",
       "      <td>Sun</td>\n",
       "      <td>Dinner</td>\n",
       "      <td>2</td>\n",
       "      <td>2.704636</td>\n",
       "      <td>2.998279</td>\n",
       "      <td>-1.694636</td>\n",
       "      <td>-1.988279</td>\n",
       "    </tr>\n",
       "    <tr>\n",
       "      <th>2</th>\n",
       "      <td>10.34</td>\n",
       "      <td>1.66</td>\n",
       "      <td>Male</td>\n",
       "      <td>No</td>\n",
       "      <td>Sun</td>\n",
       "      <td>Dinner</td>\n",
       "      <td>3</td>\n",
       "      <td>2.006223</td>\n",
       "      <td>2.998279</td>\n",
       "      <td>-0.346223</td>\n",
       "      <td>-1.338279</td>\n",
       "    </tr>\n",
       "    <tr>\n",
       "      <th>3</th>\n",
       "      <td>21.01</td>\n",
       "      <td>3.50</td>\n",
       "      <td>Male</td>\n",
       "      <td>No</td>\n",
       "      <td>Sun</td>\n",
       "      <td>Dinner</td>\n",
       "      <td>3</td>\n",
       "      <td>3.126835</td>\n",
       "      <td>2.998279</td>\n",
       "      <td>0.373165</td>\n",
       "      <td>0.501721</td>\n",
       "    </tr>\n",
       "  </tbody>\n",
       "</table>\n",
       "</div>"
      ],
      "text/plain": [
       "   total_bill   tip     sex smoker  day    time  size      yhat  baseline  \\\n",
       "1       16.99  1.01  Female     No  Sun  Dinner     2  2.704636  2.998279   \n",
       "2       10.34  1.66    Male     No  Sun  Dinner     3  2.006223  2.998279   \n",
       "3       21.01  3.50    Male     No  Sun  Dinner     3  3.126835  2.998279   \n",
       "\n",
       "   residual  baseline_residual  \n",
       "1 -1.694636          -1.988279  \n",
       "2 -0.346223          -1.338279  \n",
       "3  0.373165           0.501721  "
      ]
     },
     "execution_count": 8,
     "metadata": {},
     "output_type": "execute_result"
    }
   ],
   "source": [
    "# Verify results\n",
    "df.head(3)"
   ]
  },
  {
   "cell_type": "code",
   "execution_count": 9,
   "id": "2e843ea5",
   "metadata": {},
   "outputs": [
    {
     "data": {
      "text/plain": [
       "(9.769962616701378e-14, -2.4868995751603507e-14)"
      ]
     },
     "execution_count": 9,
     "metadata": {},
     "output_type": "execute_result"
    }
   ],
   "source": [
    "# Compare Residuals to each other\n",
    "df['residual'].sum(), df['baseline_residual'].sum()"
   ]
  },
  {
   "cell_type": "code",
   "execution_count": 10,
   "id": "51063001",
   "metadata": {},
   "outputs": [
    {
     "data": {
      "image/png": "[encoded data removed]",
      "text/plain": [
       "<Figure size 792x360 with 2 Axes>"
      ]
     },
     "metadata": {
      "needs_background": "light"
     },
     "output_type": "display_data"
    }
   ],
   "source": [
    "# Plot the residuals\n",
    "plt.figure(figsize = (11,5))\n",
    "\n",
    "# Baseline first\n",
    "plt.subplot(121)\n",
    "plt.scatter(df['total_bill'], df['baseline_residual'])\n",
    "plt.axhline(y = 0, ls = ':')\n",
    "plt.xlabel('Total Bill')\n",
    "plt.ylabel('Residual')\n",
    "plt.title('Baseline Residuals')\n",
    "\n",
    "# Our Regression Model\n",
    "plt.subplot(122)\n",
    "plt.scatter(df['total_bill'], df['residual'])\n",
    "plt.axhline(y = 0, ls = ':')\n",
    "plt.xlabel('Total Bill')\n",
    "plt.ylabel('Residual')\n",
    "plt.title('Model Residuals')\n",
    "               \n",
    "plt.show()\n"
   ]
  },
  {
   "cell_type": "markdown",
   "id": "8172fc3d",
   "metadata": {},
   "source": [
    "# Exercise 4 & 5\n",
    "\n",
    "- Calculate the sum of squared errors, explained sum of squares, total sum of squares, mean squared error, and root mean squared error for your model.\n",
    "\n",
    "- Calculate the sum of squared errors, mean squared error, and root mean squared error for the baseline model (i.e. a model that always predicts the average tip amount)."
   ]
  },
  {
   "cell_type": "code",
   "execution_count": 11,
   "id": "9f57c7c8",
   "metadata": {},
   "outputs": [],
   "source": [
    "# Sqaure our residuals\n",
    "\n",
    "# Model\n",
    "df['residual^2'] = df.residual**2\n",
    "\n",
    "# Baseline\n",
    "df['baseline_residual^2'] = df.baseline_residual**2"
   ]
  },
  {
   "cell_type": "code",
   "execution_count": 12,
   "id": "e0f34689",
   "metadata": {},
   "outputs": [
    {
     "data": {
      "text/html": [
       "<div>\n",
       "<style scoped>\n",
       "    .dataframe tbody tr th:only-of-type {\n",
       "        vertical-align: middle;\n",
       "    }\n",
       "\n",
       "    .dataframe tbody tr th {\n",
       "        vertical-align: top;\n",
       "    }\n",
       "\n",
       "    .dataframe thead th {\n",
       "        text-align: right;\n",
       "    }\n",
       "</style>\n",
       "<table border=\"1\" class=\"dataframe\">\n",
       "  <thead>\n",
       "    <tr style=\"text-align: right;\">\n",
       "      <th></th>\n",
       "      <th>total_bill</th>\n",
       "      <th>tip</th>\n",
       "      <th>sex</th>\n",
       "      <th>smoker</th>\n",
       "      <th>day</th>\n",
       "      <th>time</th>\n",
       "      <th>size</th>\n",
       "      <th>yhat</th>\n",
       "      <th>baseline</th>\n",
       "      <th>residual</th>\n",
       "      <th>baseline_residual</th>\n",
       "      <th>residual^2</th>\n",
       "      <th>baseline_residual^2</th>\n",
       "    </tr>\n",
       "  </thead>\n",
       "  <tbody>\n",
       "    <tr>\n",
       "      <th>1</th>\n",
       "      <td>16.99</td>\n",
       "      <td>1.01</td>\n",
       "      <td>Female</td>\n",
       "      <td>No</td>\n",
       "      <td>Sun</td>\n",
       "      <td>Dinner</td>\n",
       "      <td>2</td>\n",
       "      <td>2.704636</td>\n",
       "      <td>2.998279</td>\n",
       "      <td>-1.694636</td>\n",
       "      <td>-1.988279</td>\n",
       "      <td>2.871792</td>\n",
       "      <td>3.953252</td>\n",
       "    </tr>\n",
       "    <tr>\n",
       "      <th>2</th>\n",
       "      <td>10.34</td>\n",
       "      <td>1.66</td>\n",
       "      <td>Male</td>\n",
       "      <td>No</td>\n",
       "      <td>Sun</td>\n",
       "      <td>Dinner</td>\n",
       "      <td>3</td>\n",
       "      <td>2.006223</td>\n",
       "      <td>2.998279</td>\n",
       "      <td>-0.346223</td>\n",
       "      <td>-1.338279</td>\n",
       "      <td>0.119870</td>\n",
       "      <td>1.790990</td>\n",
       "    </tr>\n",
       "  </tbody>\n",
       "</table>\n",
       "</div>"
      ],
      "text/plain": [
       "   total_bill   tip     sex smoker  day    time  size      yhat  baseline  \\\n",
       "1       16.99  1.01  Female     No  Sun  Dinner     2  2.704636  2.998279   \n",
       "2       10.34  1.66    Male     No  Sun  Dinner     3  2.006223  2.998279   \n",
       "\n",
       "   residual  baseline_residual  residual^2  baseline_residual^2  \n",
       "1 -1.694636          -1.988279    2.871792             3.953252  \n",
       "2 -0.346223          -1.338279    0.119870             1.790990  "
      ]
     },
     "execution_count": 12,
     "metadata": {},
     "output_type": "execute_result"
    }
   ],
   "source": [
    "# Verify\n",
    "df.head(2)"
   ]
  },
  {
   "cell_type": "code",
   "execution_count": 13,
   "id": "7f9aecc4",
   "metadata": {},
   "outputs": [
    {
     "name": "stdout",
     "output_type": "stream",
     "text": [
      "Model SSE --> 252.8\n",
      "Baseline SSE --> 465.2\n"
     ]
    }
   ],
   "source": [
    "# Square of Sum Errors (SSE)\n",
    "\n",
    "# Model\n",
    "SSE = df['residual^2'].sum()\n",
    "\n",
    "# Baseline\n",
    "Baseline_SSE = df['baseline_residual^2'].sum()\n",
    "\n",
    "print(f'Model SSE --> {SSE:.1f}')\n",
    "print(f'Baseline SSE --> {Baseline_SSE:.1f}')"
   ]
  },
  {
   "cell_type": "code",
   "execution_count": 14,
   "id": "fc13a711",
   "metadata": {},
   "outputs": [
    {
     "name": "stdout",
     "output_type": "stream",
     "text": [
      "Model MSE --> 1.0\n",
      "Baseline MSE --> 1.9\n"
     ]
    }
   ],
   "source": [
    "# Mean Square Errors (MSE)\n",
    "\n",
    "# Model\n",
    "MSE = SSE/len(df)\n",
    "\n",
    "# Baseline\n",
    "Baseline_MSE = Baseline_SSE/len(df)\n",
    "\n",
    "print(f'Model MSE --> {MSE:.1f}')\n",
    "print(f'Baseline MSE --> {Baseline_MSE:.1f}')"
   ]
  },
  {
   "cell_type": "code",
   "execution_count": 15,
   "id": "c6cb28de",
   "metadata": {},
   "outputs": [
    {
     "name": "stdout",
     "output_type": "stream",
     "text": [
      "Model RMSE --> 1.0\n",
      "Baseline RMSE --> 1.4\n"
     ]
    }
   ],
   "source": [
    "# Root Mean Squared Error (RMSE)\n",
    "\n",
    "# Model\n",
    "RMSE = sqrt(MSE)\n",
    "\n",
    "# Baseline\n",
    "Baseline_RMSE = sqrt(Baseline_MSE)\n",
    "\n",
    "print(f'Model RMSE --> {RMSE:.1f}')\n",
    "print(f'Baseline RMSE --> {Baseline_RMSE:.1f}')"
   ]
  },
  {
   "cell_type": "code",
   "execution_count": 16,
   "id": "c2f10cbe",
   "metadata": {},
   "outputs": [
    {
     "name": "stdout",
     "output_type": "stream",
     "text": [
      "Model ESS --> 212.4\n"
     ]
    }
   ],
   "source": [
    "# Explained Sum of Squares\n",
    "\n",
    "ESS = sum((df.yhat - df.baseline)**2)\n",
    "\n",
    "print(f'Model ESS --> {ESS:.1f}')"
   ]
  },
  {
   "cell_type": "code",
   "execution_count": 17,
   "id": "13e99ec8",
   "metadata": {},
   "outputs": [
    {
     "name": "stdout",
     "output_type": "stream",
     "text": [
      "Model TSS --> 465.2\n"
     ]
    }
   ],
   "source": [
    "# Total Sum of Squares\n",
    "\n",
    "# Model\n",
    "TSS = ESS + SSE\n",
    "\n",
    "print(f'Model TSS --> {TSS:.1f}')"
   ]
  },
  {
   "cell_type": "markdown",
   "id": "f66dfb79",
   "metadata": {},
   "source": [
    "# Exercise 6\n",
    "\n",
    "- Write python code that compares the sum of squared errors for your model against the sum of squared errors for the baseline model and outputs whether or not your model performs better than the baseline model."
   ]
  },
  {
   "cell_type": "code",
   "execution_count": 18,
   "id": "9f78cacc",
   "metadata": {},
   "outputs": [],
   "source": [
    "# Make a Function that gives the metrics all at once using the methods used above\n",
    "\n",
    "def regression_metrics(residual, baseline_residual, df):\n",
    "    '''\n",
    "    Function takes in the residuals from a regression model, the baseline regression, and the dataframe they are coming from,\n",
    "    and produces an SSE, MSE, and RMSE for the model and baseline, print the results for easy comparison.\n",
    "    '''\n",
    "    \n",
    "    # Get R^2 first\n",
    "    #---------------------------\n",
    "    # Model\n",
    "    df['residual^2'] = df.residual**2\n",
    "    # Baseline\n",
    "    df['baseline_residual^2'] = df.baseline_residual**2\n",
    "    \n",
    "    \n",
    "    # Square of Sum Errors (SSE)\n",
    "    #----------------------------\n",
    "    # Model\n",
    "    SSE = df['residual^2'].sum()\n",
    "    # Baseline\n",
    "    Baseline_SSE = df['baseline_residual^2'].sum()\n",
    "\n",
    "    \n",
    "    # Mean Square Errors (MSE)\n",
    "    #----------------------------\n",
    "    # Model\n",
    "    MSE = SSE/len(df)\n",
    "    # Baseline\n",
    "    Baseline_MSE = Baseline_SSE/len(df)\n",
    "    \n",
    "    \n",
    "    # Root Mean Squared Error (RMSE)\n",
    "    #-----------------------------\n",
    "    # Model\n",
    "    RMSE = sqrt(MSE)\n",
    "    # Baseline\n",
    "    Baseline_RMSE = sqrt(Baseline_MSE)\n",
    "\n",
    "    print(f'SSE')\n",
    "    print(f'-----------------------')\n",
    "    print(f'Model SSE --> {SSE:.1f}')\n",
    "    print(f'Baseline SSE --> {Baseline_SSE:.1f}')\n",
    "    print(f'')\n",
    "    print(f'MSE')\n",
    "    print(f'-----------------------')\n",
    "    print(f'Model MSE --> {MSE:.1f}')\n",
    "    print(f'Baseline MSE --> {Baseline_MSE:.1f}')\n",
    "    print(f'')\n",
    "    print(f'RMSE')\n",
    "    print(f'-----------------------')\n",
    "    print(f'Model RMSE --> {RMSE:.1f}')\n",
    "    print(f'Baseline RMSE --> {Baseline_RMSE:.1f}')"
   ]
  },
  {
   "cell_type": "code",
   "execution_count": 19,
   "id": "1ca1c5f6",
   "metadata": {},
   "outputs": [
    {
     "name": "stdout",
     "output_type": "stream",
     "text": [
      "SSE\n",
      "-----------------------\n",
      "Model SSE --> 252.8\n",
      "Baseline SSE --> 465.2\n",
      "\n",
      "MSE\n",
      "-----------------------\n",
      "Model MSE --> 1.0\n",
      "Baseline MSE --> 1.9\n",
      "\n",
      "RMSE\n",
      "-----------------------\n",
      "Model RMSE --> 1.0\n",
      "Baseline RMSE --> 1.4\n"
     ]
    }
   ],
   "source": [
    "# Verify\n",
    "regression_metrics('residual', 'baseline_residual', df)"
   ]
  },
  {
   "cell_type": "markdown",
   "id": "95ee8649",
   "metadata": {},
   "source": [
    "# Exercise 7\n",
    "\n",
    "- What is the amount of variance explained in your model?"
   ]
  },
  {
   "cell_type": "code",
   "execution_count": 20,
   "id": "b3df9d4a",
   "metadata": {},
   "outputs": [
    {
     "name": "stdout",
     "output_type": "stream",
     "text": [
      " R2_Score ---> 0.45662\n"
     ]
    }
   ],
   "source": [
    "# r_2 score\n",
    "r2 = r2_score(df.tip, df.yhat)\n",
    "\n",
    "print(f' R2_Score ---> {r2:.5f}')"
   ]
  },
  {
   "cell_type": "markdown",
   "id": "6e2dd355",
   "metadata": {},
   "source": [
    "# Exercise 8\n",
    "\n",
    "- Is your model better than the baseline model?\n"
   ]
  },
  {
   "cell_type": "code",
   "execution_count": 21,
   "id": "5a6ea0b3",
   "metadata": {},
   "outputs": [],
   "source": [
    "# Yes"
   ]
  },
  {
   "cell_type": "markdown",
   "id": "dccb0875",
   "metadata": {},
   "source": [
    "# Exercise 9\n",
    "\n",
    "- Create a file named evaluate.py that contains the following functions.\n",
    "\n",
    "        plot_residuals(y, yhat): creates a residual plot\n",
    "        regression_errors(y, yhat): returns the following values:\n",
    "        sum of squared errors (SSE)\n",
    "        explained sum of squares (ESS)\n",
    "        total sum of squares (TSS)\n",
    "        mean squared error (MSE)\n",
    "        root mean squared error (RMSE)\n",
    "        baseline_mean_errors(y): computes the SSE, MSE, and RMSE for the baseline model\n",
    "        better_than_baseline(y, yhat): returns true if your model performs better than the baseline, otherwise false\n",
    "\n",
    "\n",
    "-----------------------------------------------------\n",
    "\n",
    "# Exercise 10\n",
    "\n",
    "- Load the mpg dataset and fit a model that predicts highway mileage based on engine displacement. Take a look at all the regression evaluation metrics, and determine whether this model is better than the baseline model. Use the functions from your evaluate.py to help accomplish this.\n"
   ]
  },
  {
   "cell_type": "code",
   "execution_count": 22,
   "id": "69e28b68",
   "metadata": {},
   "outputs": [
    {
     "data": {
      "text/html": [
       "<div>\n",
       "<style scoped>\n",
       "    .dataframe tbody tr th:only-of-type {\n",
       "        vertical-align: middle;\n",
       "    }\n",
       "\n",
       "    .dataframe tbody tr th {\n",
       "        vertical-align: top;\n",
       "    }\n",
       "\n",
       "    .dataframe thead th {\n",
       "        text-align: right;\n",
       "    }\n",
       "</style>\n",
       "<table border=\"1\" class=\"dataframe\">\n",
       "  <thead>\n",
       "    <tr style=\"text-align: right;\">\n",
       "      <th></th>\n",
       "      <th>manufacturer</th>\n",
       "      <th>model</th>\n",
       "      <th>displ</th>\n",
       "      <th>year</th>\n",
       "      <th>cyl</th>\n",
       "      <th>trans</th>\n",
       "      <th>drv</th>\n",
       "      <th>cty</th>\n",
       "      <th>hwy</th>\n",
       "      <th>fl</th>\n",
       "      <th>class</th>\n",
       "    </tr>\n",
       "  </thead>\n",
       "  <tbody>\n",
       "    <tr>\n",
       "      <th>1</th>\n",
       "      <td>audi</td>\n",
       "      <td>a4</td>\n",
       "      <td>1.8</td>\n",
       "      <td>1999</td>\n",
       "      <td>4</td>\n",
       "      <td>auto(l5)</td>\n",
       "      <td>f</td>\n",
       "      <td>18</td>\n",
       "      <td>29</td>\n",
       "      <td>p</td>\n",
       "      <td>compact</td>\n",
       "    </tr>\n",
       "    <tr>\n",
       "      <th>2</th>\n",
       "      <td>audi</td>\n",
       "      <td>a4</td>\n",
       "      <td>1.8</td>\n",
       "      <td>1999</td>\n",
       "      <td>4</td>\n",
       "      <td>manual(m5)</td>\n",
       "      <td>f</td>\n",
       "      <td>21</td>\n",
       "      <td>29</td>\n",
       "      <td>p</td>\n",
       "      <td>compact</td>\n",
       "    </tr>\n",
       "    <tr>\n",
       "      <th>3</th>\n",
       "      <td>audi</td>\n",
       "      <td>a4</td>\n",
       "      <td>2.0</td>\n",
       "      <td>2008</td>\n",
       "      <td>4</td>\n",
       "      <td>manual(m6)</td>\n",
       "      <td>f</td>\n",
       "      <td>20</td>\n",
       "      <td>31</td>\n",
       "      <td>p</td>\n",
       "      <td>compact</td>\n",
       "    </tr>\n",
       "  </tbody>\n",
       "</table>\n",
       "</div>"
      ],
      "text/plain": [
       "  manufacturer model  displ  year  cyl       trans drv  cty  hwy fl    class\n",
       "1         audi    a4    1.8  1999    4    auto(l5)   f   18   29  p  compact\n",
       "2         audi    a4    1.8  1999    4  manual(m5)   f   21   29  p  compact\n",
       "3         audi    a4    2.0  2008    4  manual(m6)   f   20   31  p  compact"
      ]
     },
     "execution_count": 22,
     "metadata": {},
     "output_type": "execute_result"
    }
   ],
   "source": [
    "df = data('mpg')\n",
    "df.head(3)"
   ]
  },
  {
   "cell_type": "code",
   "execution_count": 23,
   "id": "5b6c7092",
   "metadata": {},
   "outputs": [],
   "source": [
    "# Fit a linear regression model\n",
    "\n",
    "# Build it\n",
    "lm = LinearRegression(normalize=True)\n",
    "\n",
    "# Fit it\n",
    "lm.fit(df[['displ']], df['hwy'])\n",
    "\n",
    "# Predict\n",
    "df['yhat'] = lm.predict(df[['displ']])"
   ]
  },
  {
   "cell_type": "code",
   "execution_count": 24,
   "id": "1443d348",
   "metadata": {},
   "outputs": [
    {
     "data": {
      "text/html": [
       "<div>\n",
       "<style scoped>\n",
       "    .dataframe tbody tr th:only-of-type {\n",
       "        vertical-align: middle;\n",
       "    }\n",
       "\n",
       "    .dataframe tbody tr th {\n",
       "        vertical-align: top;\n",
       "    }\n",
       "\n",
       "    .dataframe thead th {\n",
       "        text-align: right;\n",
       "    }\n",
       "</style>\n",
       "<table border=\"1\" class=\"dataframe\">\n",
       "  <thead>\n",
       "    <tr style=\"text-align: right;\">\n",
       "      <th></th>\n",
       "      <th>manufacturer</th>\n",
       "      <th>model</th>\n",
       "      <th>displ</th>\n",
       "      <th>year</th>\n",
       "      <th>cyl</th>\n",
       "      <th>trans</th>\n",
       "      <th>drv</th>\n",
       "      <th>cty</th>\n",
       "      <th>hwy</th>\n",
       "      <th>fl</th>\n",
       "      <th>class</th>\n",
       "      <th>yhat</th>\n",
       "    </tr>\n",
       "  </thead>\n",
       "  <tbody>\n",
       "    <tr>\n",
       "      <th>1</th>\n",
       "      <td>audi</td>\n",
       "      <td>a4</td>\n",
       "      <td>1.8</td>\n",
       "      <td>1999</td>\n",
       "      <td>4</td>\n",
       "      <td>auto(l5)</td>\n",
       "      <td>f</td>\n",
       "      <td>18</td>\n",
       "      <td>29</td>\n",
       "      <td>p</td>\n",
       "      <td>compact</td>\n",
       "      <td>29.342591</td>\n",
       "    </tr>\n",
       "    <tr>\n",
       "      <th>2</th>\n",
       "      <td>audi</td>\n",
       "      <td>a4</td>\n",
       "      <td>1.8</td>\n",
       "      <td>1999</td>\n",
       "      <td>4</td>\n",
       "      <td>manual(m5)</td>\n",
       "      <td>f</td>\n",
       "      <td>21</td>\n",
       "      <td>29</td>\n",
       "      <td>p</td>\n",
       "      <td>compact</td>\n",
       "      <td>29.342591</td>\n",
       "    </tr>\n",
       "    <tr>\n",
       "      <th>3</th>\n",
       "      <td>audi</td>\n",
       "      <td>a4</td>\n",
       "      <td>2.0</td>\n",
       "      <td>2008</td>\n",
       "      <td>4</td>\n",
       "      <td>manual(m6)</td>\n",
       "      <td>f</td>\n",
       "      <td>20</td>\n",
       "      <td>31</td>\n",
       "      <td>p</td>\n",
       "      <td>compact</td>\n",
       "      <td>28.636473</td>\n",
       "    </tr>\n",
       "  </tbody>\n",
       "</table>\n",
       "</div>"
      ],
      "text/plain": [
       "  manufacturer model  displ  year  cyl       trans drv  cty  hwy fl    class  \\\n",
       "1         audi    a4    1.8  1999    4    auto(l5)   f   18   29  p  compact   \n",
       "2         audi    a4    1.8  1999    4  manual(m5)   f   21   29  p  compact   \n",
       "3         audi    a4    2.0  2008    4  manual(m6)   f   20   31  p  compact   \n",
       "\n",
       "        yhat  \n",
       "1  29.342591  \n",
       "2  29.342591  \n",
       "3  28.636473  "
      ]
     },
     "execution_count": 24,
     "metadata": {},
     "output_type": "execute_result"
    }
   ],
   "source": [
    "df.head(3)"
   ]
  },
  {
   "cell_type": "code",
   "execution_count": 25,
   "id": "2b58440f",
   "metadata": {},
   "outputs": [
    {
     "data": {
      "image/png": "[encoded data removed]",
      "text/plain": [
       "<Figure size 432x288 with 1 Axes>"
      ]
     },
     "metadata": {
      "needs_background": "light"
     },
     "output_type": "display_data"
    }
   ],
   "source": [
    "# Lets visualize the data\n",
    "\n",
    "sns.scatterplot(x='displ', y='hwy', data=df)\n",
    "sns.lineplot(x='displ', y='yhat', data=df, color='orange')\n",
    "plt.axhline(y=(df.hwy.mean()), ls=':')\n",
    "plt.xlabel('Engine Displacement')\n",
    "plt.ylabel('Highway Mileage')\n",
    "plt.title('Regression Model for Highway Mileage')\n",
    "\n",
    "plt.show()"
   ]
  },
  {
   "cell_type": "code",
   "execution_count": 26,
   "id": "6416daba",
   "metadata": {},
   "outputs": [],
   "source": [
    "# Add baseline\n",
    "df[['baseline']] = df[['hwy']].mean()"
   ]
  },
  {
   "cell_type": "code",
   "execution_count": 27,
   "id": "370301b1",
   "metadata": {},
   "outputs": [],
   "source": [
    "# Add residuals to our data for evaluation\n",
    "\n",
    "df['residual'] = df['hwy'] - df['yhat']\n",
    "\n",
    "# Compare to baseline\n",
    "df['baseline_residual'] = df['hwy'] - df['baseline']"
   ]
  },
  {
   "cell_type": "code",
   "execution_count": 28,
   "id": "d6a46453",
   "metadata": {},
   "outputs": [
    {
     "data": {
      "text/html": [
       "<div>\n",
       "<style scoped>\n",
       "    .dataframe tbody tr th:only-of-type {\n",
       "        vertical-align: middle;\n",
       "    }\n",
       "\n",
       "    .dataframe tbody tr th {\n",
       "        vertical-align: top;\n",
       "    }\n",
       "\n",
       "    .dataframe thead th {\n",
       "        text-align: right;\n",
       "    }\n",
       "</style>\n",
       "<table border=\"1\" class=\"dataframe\">\n",
       "  <thead>\n",
       "    <tr style=\"text-align: right;\">\n",
       "      <th></th>\n",
       "      <th>manufacturer</th>\n",
       "      <th>model</th>\n",
       "      <th>displ</th>\n",
       "      <th>year</th>\n",
       "      <th>cyl</th>\n",
       "      <th>trans</th>\n",
       "      <th>drv</th>\n",
       "      <th>cty</th>\n",
       "      <th>hwy</th>\n",
       "      <th>fl</th>\n",
       "      <th>class</th>\n",
       "      <th>yhat</th>\n",
       "      <th>baseline</th>\n",
       "      <th>residual</th>\n",
       "      <th>baseline_residual</th>\n",
       "    </tr>\n",
       "  </thead>\n",
       "  <tbody>\n",
       "    <tr>\n",
       "      <th>1</th>\n",
       "      <td>audi</td>\n",
       "      <td>a4</td>\n",
       "      <td>1.8</td>\n",
       "      <td>1999</td>\n",
       "      <td>4</td>\n",
       "      <td>auto(l5)</td>\n",
       "      <td>f</td>\n",
       "      <td>18</td>\n",
       "      <td>29</td>\n",
       "      <td>p</td>\n",
       "      <td>compact</td>\n",
       "      <td>29.342591</td>\n",
       "      <td>23.440171</td>\n",
       "      <td>-0.342591</td>\n",
       "      <td>5.559829</td>\n",
       "    </tr>\n",
       "    <tr>\n",
       "      <th>2</th>\n",
       "      <td>audi</td>\n",
       "      <td>a4</td>\n",
       "      <td>1.8</td>\n",
       "      <td>1999</td>\n",
       "      <td>4</td>\n",
       "      <td>manual(m5)</td>\n",
       "      <td>f</td>\n",
       "      <td>21</td>\n",
       "      <td>29</td>\n",
       "      <td>p</td>\n",
       "      <td>compact</td>\n",
       "      <td>29.342591</td>\n",
       "      <td>23.440171</td>\n",
       "      <td>-0.342591</td>\n",
       "      <td>5.559829</td>\n",
       "    </tr>\n",
       "    <tr>\n",
       "      <th>3</th>\n",
       "      <td>audi</td>\n",
       "      <td>a4</td>\n",
       "      <td>2.0</td>\n",
       "      <td>2008</td>\n",
       "      <td>4</td>\n",
       "      <td>manual(m6)</td>\n",
       "      <td>f</td>\n",
       "      <td>20</td>\n",
       "      <td>31</td>\n",
       "      <td>p</td>\n",
       "      <td>compact</td>\n",
       "      <td>28.636473</td>\n",
       "      <td>23.440171</td>\n",
       "      <td>2.363527</td>\n",
       "      <td>7.559829</td>\n",
       "    </tr>\n",
       "  </tbody>\n",
       "</table>\n",
       "</div>"
      ],
      "text/plain": [
       "  manufacturer model  displ  year  cyl       trans drv  cty  hwy fl    class  \\\n",
       "1         audi    a4    1.8  1999    4    auto(l5)   f   18   29  p  compact   \n",
       "2         audi    a4    1.8  1999    4  manual(m5)   f   21   29  p  compact   \n",
       "3         audi    a4    2.0  2008    4  manual(m6)   f   20   31  p  compact   \n",
       "\n",
       "        yhat   baseline  residual  baseline_residual  \n",
       "1  29.342591  23.440171 -0.342591           5.559829  \n",
       "2  29.342591  23.440171 -0.342591           5.559829  \n",
       "3  28.636473  23.440171  2.363527           7.559829  "
      ]
     },
     "execution_count": 28,
     "metadata": {},
     "output_type": "execute_result"
    }
   ],
   "source": [
    "df.head(3)"
   ]
  },
  {
   "cell_type": "code",
   "execution_count": 29,
   "id": "0ca92518",
   "metadata": {},
   "outputs": [
    {
     "name": "stdout",
     "output_type": "stream",
     "text": [
      "SSE\n",
      "-----------------------\n",
      "Model SSE --> 3413.8\n",
      "Baseline SSE --> 8261.7\n",
      "\n",
      "MSE\n",
      "-----------------------\n",
      "Model MSE --> 14.6\n",
      "Baseline MSE --> 35.3\n",
      "\n",
      "RMSE\n",
      "-----------------------\n",
      "Model RMSE --> 3.8\n",
      "Baseline RMSE --> 5.9\n"
     ]
    }
   ],
   "source": [
    "# Get metrics for MPG\n",
    "\n",
    "regression_metrics('residual', 'baseline_residual', df)"
   ]
  },
  {
   "cell_type": "code",
   "execution_count": null,
   "id": "d573b786",
   "metadata": {},
   "outputs": [],
   "source": []
  }
 ],
 "metadata": {
  "kernelspec": {
   "display_name": "Python 3 (ipykernel)",
   "language": "python",
   "name": "python3"
  },
  "language_info": {
   "codemirror_mode": {
    "name": "ipython",
    "version": 3
   },
   "file_extension": ".py",
   "mimetype": "text/x-python",
   "name": "python",
   "nbconvert_exporter": "python",
   "pygments_lexer": "ipython3",
   "version": "3.9.7"
  }
 },
 "nbformat": 4,
 "nbformat_minor": 5
}
