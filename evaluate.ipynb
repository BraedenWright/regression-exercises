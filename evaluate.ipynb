{
 "cells": [
  {
   "cell_type": "markdown",
   "id": "2083b7d1",
   "metadata": {},
   "source": [
    "# Imports"
   ]
  },
  {
   "cell_type": "code",
   "execution_count": 3,
   "id": "ddeb9746",
   "metadata": {},
   "outputs": [],
   "source": [
    "# Foundation\n",
    "import numpy as np\n",
    "import pandas as pd\n",
    "from pydataset import data\n",
    "\n",
    "# Vizualize\n",
    "import matplotlib.pyplot as plt\n",
    "import seaborn as sns\n",
    "\n",
    "# Math\n",
    "from math import sqrt\n",
    "from scipy import stats\n",
    "from sklearn.metrics import mean_squared_error, r2_score\n",
    "from sklearn.linear_model import LinearRegression\n",
    "\n",
    "# Custom\n",
    "import wrangle as wrg\n",
    "import explore as exp\n"
   ]
  },
  {
   "cell_type": "markdown",
   "id": "89a0e330",
   "metadata": {},
   "source": [
    "# Exercise 1 & 2\n",
    "\n",
    "- Load the tips dataset from either pydataset or seaborn.\n",
    "\n",
    "- Fit a linear regression model (ordinary least squares) and compute yhat, predictions of tip using total_bill. "
   ]
  },
  {
   "cell_type": "code",
   "execution_count": 5,
   "id": "9db2733a",
   "metadata": {},
   "outputs": [
    {
     "data": {
      "text/html": [
       "<div>\n",
       "<style scoped>\n",
       "    .dataframe tbody tr th:only-of-type {\n",
       "        vertical-align: middle;\n",
       "    }\n",
       "\n",
       "    .dataframe tbody tr th {\n",
       "        vertical-align: top;\n",
       "    }\n",
       "\n",
       "    .dataframe thead th {\n",
       "        text-align: right;\n",
       "    }\n",
       "</style>\n",
       "<table border=\"1\" class=\"dataframe\">\n",
       "  <thead>\n",
       "    <tr style=\"text-align: right;\">\n",
       "      <th></th>\n",
       "      <th>total_bill</th>\n",
       "      <th>tip</th>\n",
       "      <th>sex</th>\n",
       "      <th>smoker</th>\n",
       "      <th>day</th>\n",
       "      <th>time</th>\n",
       "      <th>size</th>\n",
       "    </tr>\n",
       "  </thead>\n",
       "  <tbody>\n",
       "    <tr>\n",
       "      <th>1</th>\n",
       "      <td>16.99</td>\n",
       "      <td>1.01</td>\n",
       "      <td>Female</td>\n",
       "      <td>No</td>\n",
       "      <td>Sun</td>\n",
       "      <td>Dinner</td>\n",
       "      <td>2</td>\n",
       "    </tr>\n",
       "    <tr>\n",
       "      <th>2</th>\n",
       "      <td>10.34</td>\n",
       "      <td>1.66</td>\n",
       "      <td>Male</td>\n",
       "      <td>No</td>\n",
       "      <td>Sun</td>\n",
       "      <td>Dinner</td>\n",
       "      <td>3</td>\n",
       "    </tr>\n",
       "    <tr>\n",
       "      <th>3</th>\n",
       "      <td>21.01</td>\n",
       "      <td>3.50</td>\n",
       "      <td>Male</td>\n",
       "      <td>No</td>\n",
       "      <td>Sun</td>\n",
       "      <td>Dinner</td>\n",
       "      <td>3</td>\n",
       "    </tr>\n",
       "  </tbody>\n",
       "</table>\n",
       "</div>"
      ],
      "text/plain": [
       "   total_bill   tip     sex smoker  day    time  size\n",
       "1       16.99  1.01  Female     No  Sun  Dinner     2\n",
       "2       10.34  1.66    Male     No  Sun  Dinner     3\n",
       "3       21.01  3.50    Male     No  Sun  Dinner     3"
      ]
     },
     "execution_count": 5,
     "metadata": {},
     "output_type": "execute_result"
    }
   ],
   "source": [
    "# load tips dataset\n",
    "\n",
    "df = data('tips')\n",
    "df.head(3)"
   ]
  },
  {
   "cell_type": "code",
   "execution_count": 7,
   "id": "9f6a549b",
   "metadata": {},
   "outputs": [],
   "source": [
    "# Fit a linear regression model\n",
    "\n",
    "# Build it\n",
    "lm = LinearRegression(normalize=True)\n",
    "\n",
    "# Fit it\n",
    "lm.fit(df[['total_bill']], df['tip'])\n",
    "\n",
    "# Predict\n",
    "df['yhat'] = lm.predict(df[['total_bill']])"
   ]
  },
  {
   "cell_type": "code",
   "execution_count": 8,
   "id": "8d6132b0",
   "metadata": {},
   "outputs": [],
   "source": [
    "# Create a baseline\n",
    "df[['baseline']] = df[['tip']].mean()"
   ]
  },
  {
   "cell_type": "code",
   "execution_count": 9,
   "id": "f667dd86",
   "metadata": {},
   "outputs": [
    {
     "data": {
      "text/html": [
       "<div>\n",
       "<style scoped>\n",
       "    .dataframe tbody tr th:only-of-type {\n",
       "        vertical-align: middle;\n",
       "    }\n",
       "\n",
       "    .dataframe tbody tr th {\n",
       "        vertical-align: top;\n",
       "    }\n",
       "\n",
       "    .dataframe thead th {\n",
       "        text-align: right;\n",
       "    }\n",
       "</style>\n",
       "<table border=\"1\" class=\"dataframe\">\n",
       "  <thead>\n",
       "    <tr style=\"text-align: right;\">\n",
       "      <th></th>\n",
       "      <th>total_bill</th>\n",
       "      <th>tip</th>\n",
       "      <th>sex</th>\n",
       "      <th>smoker</th>\n",
       "      <th>day</th>\n",
       "      <th>time</th>\n",
       "      <th>size</th>\n",
       "      <th>yhat</th>\n",
       "      <th>baseline</th>\n",
       "    </tr>\n",
       "  </thead>\n",
       "  <tbody>\n",
       "    <tr>\n",
       "      <th>1</th>\n",
       "      <td>16.99</td>\n",
       "      <td>1.01</td>\n",
       "      <td>Female</td>\n",
       "      <td>No</td>\n",
       "      <td>Sun</td>\n",
       "      <td>Dinner</td>\n",
       "      <td>2</td>\n",
       "      <td>2.704636</td>\n",
       "      <td>2.998279</td>\n",
       "    </tr>\n",
       "    <tr>\n",
       "      <th>2</th>\n",
       "      <td>10.34</td>\n",
       "      <td>1.66</td>\n",
       "      <td>Male</td>\n",
       "      <td>No</td>\n",
       "      <td>Sun</td>\n",
       "      <td>Dinner</td>\n",
       "      <td>3</td>\n",
       "      <td>2.006223</td>\n",
       "      <td>2.998279</td>\n",
       "    </tr>\n",
       "    <tr>\n",
       "      <th>3</th>\n",
       "      <td>21.01</td>\n",
       "      <td>3.50</td>\n",
       "      <td>Male</td>\n",
       "      <td>No</td>\n",
       "      <td>Sun</td>\n",
       "      <td>Dinner</td>\n",
       "      <td>3</td>\n",
       "      <td>3.126835</td>\n",
       "      <td>2.998279</td>\n",
       "    </tr>\n",
       "  </tbody>\n",
       "</table>\n",
       "</div>"
      ],
      "text/plain": [
       "   total_bill   tip     sex smoker  day    time  size      yhat  baseline\n",
       "1       16.99  1.01  Female     No  Sun  Dinner     2  2.704636  2.998279\n",
       "2       10.34  1.66    Male     No  Sun  Dinner     3  2.006223  2.998279\n",
       "3       21.01  3.50    Male     No  Sun  Dinner     3  3.126835  2.998279"
      ]
     },
     "execution_count": 9,
     "metadata": {},
     "output_type": "execute_result"
    }
   ],
   "source": [
    "df.head(3)"
   ]
  },
  {
   "cell_type": "markdown",
   "id": "238427a4",
   "metadata": {},
   "source": [
    "# Exercise 3\n",
    "\n",
    "- Plot the residuals for the linear regression model that you made.\n"
   ]
  },
  {
   "cell_type": "code",
   "execution_count": 28,
   "id": "34a86d9a",
   "metadata": {},
   "outputs": [
    {
     "data": {
      "image/png": "[encoded data removed]",
      "text/plain": [
       "<Figure size 432x288 with 1 Axes>"
      ]
     },
     "metadata": {
      "needs_background": "light"
     },
     "output_type": "display_data"
    }
   ],
   "source": [
    "# Lets visualize the data\n",
    "\n",
    "sns.scatterplot(x='total_bill', y='tip', data=df)\n",
    "sns.lineplot(x='total_bill', y='yhat', data=df, color='orange')\n",
    "plt.axhline(y=3, ls=':')\n",
    "plt.xlabel('Total Bill')\n",
    "plt.ylabel('Tip Amount')\n",
    "plt.title('Regression Model for Tips')\n",
    "\n",
    "plt.show()"
   ]
  },
  {
   "cell_type": "code",
   "execution_count": 30,
   "id": "5643a9af",
   "metadata": {},
   "outputs": [],
   "source": [
    "# Add residuals to our data for evaluation\n",
    "\n",
    "df['residual'] = df['tip'] - df['yhat']\n",
    "\n",
    "# Compare to baseline\n",
    "df['baseline_residual'] = df['tip'] - df['baseline']"
   ]
  },
  {
   "cell_type": "code",
   "execution_count": 31,
   "id": "d2febbe2",
   "metadata": {},
   "outputs": [
    {
     "data": {
      "text/html": [
       "<div>\n",
       "<style scoped>\n",
       "    .dataframe tbody tr th:only-of-type {\n",
       "        vertical-align: middle;\n",
       "    }\n",
       "\n",
       "    .dataframe tbody tr th {\n",
       "        vertical-align: top;\n",
       "    }\n",
       "\n",
       "    .dataframe thead th {\n",
       "        text-align: right;\n",
       "    }\n",
       "</style>\n",
       "<table border=\"1\" class=\"dataframe\">\n",
       "  <thead>\n",
       "    <tr style=\"text-align: right;\">\n",
       "      <th></th>\n",
       "      <th>total_bill</th>\n",
       "      <th>tip</th>\n",
       "      <th>sex</th>\n",
       "      <th>smoker</th>\n",
       "      <th>day</th>\n",
       "      <th>time</th>\n",
       "      <th>size</th>\n",
       "      <th>yhat</th>\n",
       "      <th>baseline</th>\n",
       "      <th>residual</th>\n",
       "      <th>baseline_residual</th>\n",
       "    </tr>\n",
       "  </thead>\n",
       "  <tbody>\n",
       "    <tr>\n",
       "      <th>1</th>\n",
       "      <td>16.99</td>\n",
       "      <td>1.01</td>\n",
       "      <td>Female</td>\n",
       "      <td>No</td>\n",
       "      <td>Sun</td>\n",
       "      <td>Dinner</td>\n",
       "      <td>2</td>\n",
       "      <td>2.704636</td>\n",
       "      <td>2.998279</td>\n",
       "      <td>-1.694636</td>\n",
       "      <td>-1.988279</td>\n",
       "    </tr>\n",
       "    <tr>\n",
       "      <th>2</th>\n",
       "      <td>10.34</td>\n",
       "      <td>1.66</td>\n",
       "      <td>Male</td>\n",
       "      <td>No</td>\n",
       "      <td>Sun</td>\n",
       "      <td>Dinner</td>\n",
       "      <td>3</td>\n",
       "      <td>2.006223</td>\n",
       "      <td>2.998279</td>\n",
       "      <td>-0.346223</td>\n",
       "      <td>-1.338279</td>\n",
       "    </tr>\n",
       "    <tr>\n",
       "      <th>3</th>\n",
       "      <td>21.01</td>\n",
       "      <td>3.50</td>\n",
       "      <td>Male</td>\n",
       "      <td>No</td>\n",
       "      <td>Sun</td>\n",
       "      <td>Dinner</td>\n",
       "      <td>3</td>\n",
       "      <td>3.126835</td>\n",
       "      <td>2.998279</td>\n",
       "      <td>0.373165</td>\n",
       "      <td>0.501721</td>\n",
       "    </tr>\n",
       "  </tbody>\n",
       "</table>\n",
       "</div>"
      ],
      "text/plain": [
       "   total_bill   tip     sex smoker  day    time  size      yhat  baseline  \\\n",
       "1       16.99  1.01  Female     No  Sun  Dinner     2  2.704636  2.998279   \n",
       "2       10.34  1.66    Male     No  Sun  Dinner     3  2.006223  2.998279   \n",
       "3       21.01  3.50    Male     No  Sun  Dinner     3  3.126835  2.998279   \n",
       "\n",
       "   residual  baseline_residual  \n",
       "1 -1.694636          -1.988279  \n",
       "2 -0.346223          -1.338279  \n",
       "3  0.373165           0.501721  "
      ]
     },
     "execution_count": 31,
     "metadata": {},
     "output_type": "execute_result"
    }
   ],
   "source": [
    "# Verify results\n",
    "df.head(3)"
   ]
  },
  {
   "cell_type": "code",
   "execution_count": 34,
   "id": "063f5480",
   "metadata": {},
   "outputs": [
    {
     "data": {
      "text/plain": [
       "(9.769962616701378e-14, -2.4868995751603507e-14)"
      ]
     },
     "execution_count": 34,
     "metadata": {},
     "output_type": "execute_result"
    }
   ],
   "source": [
    "# Compare Residuals to each other\n",
    "df['residual'].sum(), df['baseline_residual'].sum()"
   ]
  },
  {
   "cell_type": "code",
   "execution_count": 36,
   "id": "f637e436",
   "metadata": {},
   "outputs": [
    {
     "data": {
      "image/png": "[encoded data removed]",
      "text/plain": [
       "<Figure size 792x360 with 2 Axes>"
      ]
     },
     "metadata": {
      "needs_background": "light"
     },
     "output_type": "display_data"
    }
   ],
   "source": [
    "# Plot the residuals\n",
    "plt.figure(figsize = (11,5))\n",
    "\n",
    "# Baseline first\n",
    "plt.subplot(121)\n",
    "plt.scatter(df['total_bill'], df['baseline_residual'])\n",
    "plt.axhline(y = 0, ls = ':')\n",
    "plt.xlabel('Total Bill')\n",
    "plt.ylabel('Residual')\n",
    "plt.title('Baseline Residuals')\n",
    "\n",
    "# Our Regression Model\n",
    "plt.subplot(122)\n",
    "plt.scatter(df['total_bill'], df['residual'])\n",
    "plt.axhline(y = 0, ls = ':')\n",
    "plt.xlabel('Total Bill')\n",
    "plt.ylabel('Residual')\n",
    "plt.title('Model Residuals')\n",
    "               \n",
    "plt.show()\n"
   ]
  },
  {
   "cell_type": "markdown",
   "id": "895c4fa1",
   "metadata": {},
   "source": [
    "# Exercise 4 & 5\n",
    "\n",
    "- Calculate the sum of squared errors, explained sum of squares, total sum of squares, mean squared error, and root mean squared error for your model.\n",
    "\n",
    "- Calculate the sum of squared errors, mean squared error, and root mean squared error for the baseline model (i.e. a model that always predicts the average tip amount)."
   ]
  },
  {
   "cell_type": "code",
   "execution_count": 37,
   "id": "b8a7dd6e",
   "metadata": {},
   "outputs": [],
   "source": [
    "# Sqaure our residuals\n",
    "\n",
    "# Model\n",
    "df['residual^2'] = df.residual**2\n",
    "\n",
    "# Baseline\n",
    "df['baseline_residual^2'] = df.baseline_residual**2"
   ]
  },
  {
   "cell_type": "code",
   "execution_count": 38,
   "id": "fccdaf1b",
   "metadata": {},
   "outputs": [
    {
     "data": {
      "text/html": [
       "<div>\n",
       "<style scoped>\n",
       "    .dataframe tbody tr th:only-of-type {\n",
       "        vertical-align: middle;\n",
       "    }\n",
       "\n",
       "    .dataframe tbody tr th {\n",
       "        vertical-align: top;\n",
       "    }\n",
       "\n",
       "    .dataframe thead th {\n",
       "        text-align: right;\n",
       "    }\n",
       "</style>\n",
       "<table border=\"1\" class=\"dataframe\">\n",
       "  <thead>\n",
       "    <tr style=\"text-align: right;\">\n",
       "      <th></th>\n",
       "      <th>total_bill</th>\n",
       "      <th>tip</th>\n",
       "      <th>sex</th>\n",
       "      <th>smoker</th>\n",
       "      <th>day</th>\n",
       "      <th>time</th>\n",
       "      <th>size</th>\n",
       "      <th>yhat</th>\n",
       "      <th>baseline</th>\n",
       "      <th>residual</th>\n",
       "      <th>baseline_residual</th>\n",
       "      <th>residual^2</th>\n",
       "      <th>baseline_residual^2</th>\n",
       "    </tr>\n",
       "  </thead>\n",
       "  <tbody>\n",
       "    <tr>\n",
       "      <th>1</th>\n",
       "      <td>16.99</td>\n",
       "      <td>1.01</td>\n",
       "      <td>Female</td>\n",
       "      <td>No</td>\n",
       "      <td>Sun</td>\n",
       "      <td>Dinner</td>\n",
       "      <td>2</td>\n",
       "      <td>2.704636</td>\n",
       "      <td>2.998279</td>\n",
       "      <td>-1.694636</td>\n",
       "      <td>-1.988279</td>\n",
       "      <td>2.871792</td>\n",
       "      <td>3.953252</td>\n",
       "    </tr>\n",
       "    <tr>\n",
       "      <th>2</th>\n",
       "      <td>10.34</td>\n",
       "      <td>1.66</td>\n",
       "      <td>Male</td>\n",
       "      <td>No</td>\n",
       "      <td>Sun</td>\n",
       "      <td>Dinner</td>\n",
       "      <td>3</td>\n",
       "      <td>2.006223</td>\n",
       "      <td>2.998279</td>\n",
       "      <td>-0.346223</td>\n",
       "      <td>-1.338279</td>\n",
       "      <td>0.119870</td>\n",
       "      <td>1.790990</td>\n",
       "    </tr>\n",
       "  </tbody>\n",
       "</table>\n",
       "</div>"
      ],
      "text/plain": [
       "   total_bill   tip     sex smoker  day    time  size      yhat  baseline  \\\n",
       "1       16.99  1.01  Female     No  Sun  Dinner     2  2.704636  2.998279   \n",
       "2       10.34  1.66    Male     No  Sun  Dinner     3  2.006223  2.998279   \n",
       "\n",
       "   residual  baseline_residual  residual^2  baseline_residual^2  \n",
       "1 -1.694636          -1.988279    2.871792             3.953252  \n",
       "2 -0.346223          -1.338279    0.119870             1.790990  "
      ]
     },
     "execution_count": 38,
     "metadata": {},
     "output_type": "execute_result"
    }
   ],
   "source": [
    "# Verify\n",
    "df.head(2)"
   ]
  },
  {
   "cell_type": "code",
   "execution_count": 41,
   "id": "e9604cb8",
   "metadata": {},
   "outputs": [
    {
     "name": "stdout",
     "output_type": "stream",
     "text": [
      "Model SSE --> 252.8\n",
      "Baseline SSE --> 465.2\n"
     ]
    }
   ],
   "source": [
    "# Square of Sum Errors (SSE)\n",
    "\n",
    "# Model\n",
    "SSE = df['residual^2'].sum()\n",
    "\n",
    "# Baseline\n",
    "Baseline_SSE = df['baseline_residual^2'].sum()\n",
    "\n",
    "print(f'Model SSE --> {SSE:.1f}')\n",
    "print(f'Baseline SSE --> {Baseline_SSE:.1f}')"
   ]
  },
  {
   "cell_type": "code",
   "execution_count": 42,
   "id": "04e79f22",
   "metadata": {},
   "outputs": [
    {
     "name": "stdout",
     "output_type": "stream",
     "text": [
      "Model MSE --> 1.0\n",
      "Baseline MSE --> 1.9\n"
     ]
    }
   ],
   "source": [
    "# Mean Square Errors (MSE)\n",
    "\n",
    "# Model\n",
    "MSE = SSE/len(df)\n",
    "\n",
    "# Baseline\n",
    "Baseline_MSE = Baseline_SSE/len(df)\n",
    "\n",
    "print(f'Model MSE --> {MSE:.1f}')\n",
    "print(f'Baseline MSE --> {Baseline_MSE:.1f}')"
   ]
  },
  {
   "cell_type": "code",
   "execution_count": 43,
   "id": "772dfbfa",
   "metadata": {},
   "outputs": [
    {
     "name": "stdout",
     "output_type": "stream",
     "text": [
      "Model RMSE --> 1.0\n",
      "Baseline RMSE --> 1.4\n"
     ]
    }
   ],
   "source": [
    "# Root Mean Squared Error (RMSE)\n",
    "\n",
    "# Model\n",
    "RMSE = sqrt(MSE)\n",
    "\n",
    "# Baseline\n",
    "Baseline_RMSE = sqrt(Baseline_MSE)\n",
    "\n",
    "print(f'Model RMSE --> {RMSE:.1f}')\n",
    "print(f'Baseline RMSE --> {Baseline_RMSE:.1f}')"
   ]
  },
  {
   "cell_type": "code",
   "execution_count": 49,
   "id": "2a37c896",
   "metadata": {},
   "outputs": [
    {
     "name": "stdout",
     "output_type": "stream",
     "text": [
      "Model ESS --> 212.4\n"
     ]
    }
   ],
   "source": [
    "# Explained Sum of Squares\n",
    "\n",
    "ESS = sum((df.yhat - df.baseline)**2)\n",
    "\n",
    "print(f'Model ESS --> {ESS:.1f}')"
   ]
  },
  {
   "cell_type": "code",
   "execution_count": 50,
   "id": "51bf5232",
   "metadata": {},
   "outputs": [
    {
     "name": "stdout",
     "output_type": "stream",
     "text": [
      "Model TSS --> 465.2\n"
     ]
    }
   ],
   "source": [
    "# Total Sum of Squares\n",
    "\n",
    "# Model\n",
    "TSS = ESS + SSE\n",
    "\n",
    "print(f'Model TSS --> {TSS:.1f}')"
   ]
  },
  {
   "cell_type": "markdown",
   "id": "a875c91e",
   "metadata": {},
   "source": [
    "# Exercise 6\n",
    "\n",
    "- Write python code that compares the sum of squared errors for your model against the sum of squared errors for the baseline model and outputs whether or not your model performs better than the baseline model."
   ]
  },
  {
   "cell_type": "code",
   "execution_count": 45,
   "id": "7b6c6925",
   "metadata": {},
   "outputs": [],
   "source": [
    "# Make a Function that gives the metrics all at once using the methods used above\n",
    "\n",
    "def regression_metrics(residual, baseline_residual, df):\n",
    "    '''\n",
    "    Function takes in the residuals from a regression model, the baseline regression, and the dataframe they are coming from,\n",
    "    and produces an SSE, MSE, and RMSE for the model and baseline, print the results for easy comparison.\n",
    "    '''\n",
    "    \n",
    "    # Get R^2 first\n",
    "    #---------------------------\n",
    "    # Model\n",
    "    df['residual^2'] = df.residual**2\n",
    "    # Baseline\n",
    "    df['baseline_residual^2'] = df.baseline_residual**2\n",
    "    \n",
    "    \n",
    "    # Square of Sum Errors (SSE)\n",
    "    #----------------------------\n",
    "    # Model\n",
    "    SSE = df['residual^2'].sum()\n",
    "    # Baseline\n",
    "    Baseline_SSE = df['baseline_residual^2'].sum()\n",
    "\n",
    "    \n",
    "    # Mean Square Errors (MSE)\n",
    "    #----------------------------\n",
    "    # Model\n",
    "    MSE = SSE/len(df)\n",
    "    # Baseline\n",
    "    Baseline_MSE = Baseline_SSE/len(df)\n",
    "    \n",
    "    \n",
    "    # Root Mean Squared Error (RMSE)\n",
    "    #-----------------------------\n",
    "    # Model\n",
    "    RMSE = sqrt(MSE)\n",
    "    # Baseline\n",
    "    Baseline_RMSE = sqrt(Baseline_MSE)\n",
    "\n",
    "    print(f'SSE')\n",
    "    print(f'-----------------------')\n",
    "    print(f'Model SSE --> {SSE:.1f}')\n",
    "    print(f'Baseline SSE --> {Baseline_SSE:.1f}')\n",
    "    print(f'MSE')\n",
    "    print(f'-----------------------')\n",
    "    print(f'Model MSE --> {MSE:.1f}')\n",
    "    print(f'Baseline MSE --> {Baseline_MSE:.1f}')\n",
    "    print(f'RMSE')\n",
    "    print(f'-----------------------')\n",
    "    print(f'Model RMSE --> {RMSE:.1f}')\n",
    "    print(f'Baseline RMSE --> {Baseline_RMSE:.1f}')"
   ]
  },
  {
   "cell_type": "code",
   "execution_count": 46,
   "id": "3742ad17",
   "metadata": {},
   "outputs": [
    {
     "name": "stdout",
     "output_type": "stream",
     "text": [
      "SSE\n",
      "-----------------------\n",
      "Model SSE --> 252.8\n",
      "Baseline SSE --> 465.2\n",
      "MSE\n",
      "-----------------------\n",
      "Model MSE --> 1.0\n",
      "Baseline MSE --> 1.9\n",
      "RMSE\n",
      "-----------------------\n",
      "Model RMSE --> 1.0\n",
      "Baseline RMSE --> 1.4\n"
     ]
    }
   ],
   "source": [
    "# Verify\n",
    "regression_metrics('residual', 'baseline_residual', df)"
   ]
  },
  {
   "cell_type": "markdown",
   "id": "fc34fad2",
   "metadata": {},
   "source": [
    "# Exercise 7\n",
    "\n",
    "- What is the amount of variance explained in your model?"
   ]
  },
  {
   "cell_type": "code",
   "execution_count": 53,
   "id": "83d4ee24",
   "metadata": {},
   "outputs": [
    {
     "name": "stdout",
     "output_type": "stream",
     "text": [
      " R2_Score ---> 0.45662\n"
     ]
    }
   ],
   "source": [
    "# r_2 score\n",
    "r2 = r2_score(df.tip, df.yhat)\n",
    "\n",
    "print(f' R2_Score ---> {r2:.5f}')"
   ]
  },
  {
   "cell_type": "markdown",
   "id": "36b2375c",
   "metadata": {},
   "source": [
    "# Exercise 8\n",
    "\n",
    "- Is your model better than the baseline model?\n"
   ]
  },
  {
   "cell_type": "code",
   "execution_count": null,
   "id": "2a0cbaa2",
   "metadata": {},
   "outputs": [],
   "source": [
    "# Yes"
   ]
  },
  {
   "cell_type": "markdown",
   "id": "c3898a28",
   "metadata": {},
   "source": [
    "# Exercise 9\n",
    "\n",
    "- Create a file named evaluate.py that contains the following functions.\n",
    "\n",
    "        plot_residuals(y, yhat): creates a residual plot\n",
    "        regression_errors(y, yhat): returns the following values:\n",
    "        sum of squared errors (SSE)\n",
    "        explained sum of squares (ESS)\n",
    "        total sum of squares (TSS)\n",
    "        mean squared error (MSE)\n",
    "        root mean squared error (RMSE)\n",
    "        baseline_mean_errors(y): computes the SSE, MSE, and RMSE for the baseline model\n",
    "        better_than_baseline(y, yhat): returns true if your model performs better than the baseline, otherwise false\n",
    "\n",
    "\n",
    "-----------------------------------------------------\n",
    "\n",
    "# Exercise 10\n",
    "\n",
    "- Load the mpg dataset and fit a model that predicts highway mileage based on engine displacement. Take a look at all the regression evaluation metrics, and determine whether this model is better than the baseline model. Use the functions from your evaluate.py to help accomplish this.\n"
   ]
  },
  {
   "cell_type": "code",
   "execution_count": null,
   "id": "bf77de3c",
   "metadata": {},
   "outputs": [],
   "source": []
  }
 ],
 "metadata": {
  "kernelspec": {
   "display_name": "Python 3 (ipykernel)",
   "language": "python",
   "name": "python3"
  },
  "language_info": {
   "codemirror_mode": {
    "name": "ipython",
    "version": 3
   },
   "file_extension": ".py",
   "mimetype": "text/x-python",
   "name": "python",
   "nbconvert_exporter": "python",
   "pygments_lexer": "ipython3",
   "version": "3.9.7"
  }
 },
 "nbformat": 4,
 "nbformat_minor": 5
}
