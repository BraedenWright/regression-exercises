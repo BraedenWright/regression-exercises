{
 "cells": [
  {
   "cell_type": "markdown",
   "id": "22a5f31c",
   "metadata": {},
   "source": [
    "# Imports"
   ]
  },
  {
   "cell_type": "code",
   "execution_count": 23,
   "id": "949aeee2",
   "metadata": {},
   "outputs": [],
   "source": [
    "# Basics\n",
    "import pandas as pd\n",
    "import numpy as np\n",
    "from pydataset import data\n",
    "\n",
    "# Visuals\n",
    "import matplotlib.pyplot as plt\n",
    "import seaborn as sns\n",
    "\n",
    "# Metric Tools\n",
    "import sklearn.linear_model as skl_lm\n",
    "import sklearn.feature_selection as skl_fs\n",
    "import sklearn.preprocessing as skl_pp\n",
    "\n",
    "# Custom\n",
    "import wrangle as wrg"
   ]
  },
  {
   "cell_type": "markdown",
   "id": "36a6aa52",
   "metadata": {},
   "source": [
    "# Exercise 1.1\n",
    "\n",
    "- Load the tips dataset. Create a column named price_per_person. This should be the total bill divided by the party size."
   ]
  },
  {
   "cell_type": "code",
   "execution_count": 2,
   "id": "71452065",
   "metadata": {},
   "outputs": [
    {
     "data": {
      "text/html": [
       "<div>\n",
       "<style scoped>\n",
       "    .dataframe tbody tr th:only-of-type {\n",
       "        vertical-align: middle;\n",
       "    }\n",
       "\n",
       "    .dataframe tbody tr th {\n",
       "        vertical-align: top;\n",
       "    }\n",
       "\n",
       "    .dataframe thead th {\n",
       "        text-align: right;\n",
       "    }\n",
       "</style>\n",
       "<table border=\"1\" class=\"dataframe\">\n",
       "  <thead>\n",
       "    <tr style=\"text-align: right;\">\n",
       "      <th></th>\n",
       "      <th>total_bill</th>\n",
       "      <th>tip</th>\n",
       "      <th>sex</th>\n",
       "      <th>smoker</th>\n",
       "      <th>day</th>\n",
       "      <th>time</th>\n",
       "      <th>size</th>\n",
       "    </tr>\n",
       "  </thead>\n",
       "  <tbody>\n",
       "    <tr>\n",
       "      <th>1</th>\n",
       "      <td>16.99</td>\n",
       "      <td>1.01</td>\n",
       "      <td>Female</td>\n",
       "      <td>No</td>\n",
       "      <td>Sun</td>\n",
       "      <td>Dinner</td>\n",
       "      <td>2</td>\n",
       "    </tr>\n",
       "    <tr>\n",
       "      <th>2</th>\n",
       "      <td>10.34</td>\n",
       "      <td>1.66</td>\n",
       "      <td>Male</td>\n",
       "      <td>No</td>\n",
       "      <td>Sun</td>\n",
       "      <td>Dinner</td>\n",
       "      <td>3</td>\n",
       "    </tr>\n",
       "    <tr>\n",
       "      <th>3</th>\n",
       "      <td>21.01</td>\n",
       "      <td>3.50</td>\n",
       "      <td>Male</td>\n",
       "      <td>No</td>\n",
       "      <td>Sun</td>\n",
       "      <td>Dinner</td>\n",
       "      <td>3</td>\n",
       "    </tr>\n",
       "  </tbody>\n",
       "</table>\n",
       "</div>"
      ],
      "text/plain": [
       "   total_bill   tip     sex smoker  day    time  size\n",
       "1       16.99  1.01  Female     No  Sun  Dinner     2\n",
       "2       10.34  1.66    Male     No  Sun  Dinner     3\n",
       "3       21.01  3.50    Male     No  Sun  Dinner     3"
      ]
     },
     "execution_count": 2,
     "metadata": {},
     "output_type": "execute_result"
    }
   ],
   "source": [
    "df = data('tips')\n",
    "df.head(3)"
   ]
  },
  {
   "cell_type": "code",
   "execution_count": 3,
   "id": "fa169b2f",
   "metadata": {},
   "outputs": [],
   "source": [
    "# Rename Size (.size is an attribute)\n",
    "\n",
    "df = df.rename(columns={'size':'number_of_people'})"
   ]
  },
  {
   "cell_type": "code",
   "execution_count": 4,
   "id": "e4dbe169",
   "metadata": {},
   "outputs": [
    {
     "data": {
      "text/html": [
       "<div>\n",
       "<style scoped>\n",
       "    .dataframe tbody tr th:only-of-type {\n",
       "        vertical-align: middle;\n",
       "    }\n",
       "\n",
       "    .dataframe tbody tr th {\n",
       "        vertical-align: top;\n",
       "    }\n",
       "\n",
       "    .dataframe thead th {\n",
       "        text-align: right;\n",
       "    }\n",
       "</style>\n",
       "<table border=\"1\" class=\"dataframe\">\n",
       "  <thead>\n",
       "    <tr style=\"text-align: right;\">\n",
       "      <th></th>\n",
       "      <th>total_bill</th>\n",
       "      <th>tip</th>\n",
       "      <th>sex</th>\n",
       "      <th>smoker</th>\n",
       "      <th>day</th>\n",
       "      <th>time</th>\n",
       "      <th>number_of_people</th>\n",
       "      <th>price_per_person</th>\n",
       "    </tr>\n",
       "  </thead>\n",
       "  <tbody>\n",
       "    <tr>\n",
       "      <th>1</th>\n",
       "      <td>16.99</td>\n",
       "      <td>1.01</td>\n",
       "      <td>Female</td>\n",
       "      <td>No</td>\n",
       "      <td>Sun</td>\n",
       "      <td>Dinner</td>\n",
       "      <td>2</td>\n",
       "      <td>8.49</td>\n",
       "    </tr>\n",
       "    <tr>\n",
       "      <th>2</th>\n",
       "      <td>10.34</td>\n",
       "      <td>1.66</td>\n",
       "      <td>Male</td>\n",
       "      <td>No</td>\n",
       "      <td>Sun</td>\n",
       "      <td>Dinner</td>\n",
       "      <td>3</td>\n",
       "      <td>3.45</td>\n",
       "    </tr>\n",
       "  </tbody>\n",
       "</table>\n",
       "</div>"
      ],
      "text/plain": [
       "   total_bill   tip     sex smoker  day    time  number_of_people  \\\n",
       "1       16.99  1.01  Female     No  Sun  Dinner                 2   \n",
       "2       10.34  1.66    Male     No  Sun  Dinner                 3   \n",
       "\n",
       "   price_per_person  \n",
       "1              8.49  \n",
       "2              3.45  "
      ]
     },
     "execution_count": 4,
     "metadata": {},
     "output_type": "execute_result"
    }
   ],
   "source": [
    "# Add price per person to the nearest 2 decimals\n",
    "\n",
    "df['price_per_person'] = round((df.total_bill / df.number_of_people), 2)\n",
    "df.head(2)"
   ]
  },
  {
   "cell_type": "code",
   "execution_count": 5,
   "id": "5560988f",
   "metadata": {},
   "outputs": [],
   "source": [
    "# A bit more data prep\n",
    "\n",
    "cat_columns = ['sex', 'day', 'time', 'smoker']\n",
    "\n",
    "for col in cat_columns:\n",
    "    tips_dummy = pd.get_dummies(df[col],\n",
    "                                    prefix=df[col].name,\n",
    "                                    dummy_na=False,\n",
    "                                    drop_first = True)\n",
    "    df = pd.concat([df, tips_dummy], axis=1)\n",
    "    df = df.drop(columns=[col])\n",
    "    "
   ]
  },
  {
   "cell_type": "code",
   "execution_count": 6,
   "id": "6dd1be60",
   "metadata": {},
   "outputs": [
    {
     "data": {
      "text/html": [
       "<div>\n",
       "<style scoped>\n",
       "    .dataframe tbody tr th:only-of-type {\n",
       "        vertical-align: middle;\n",
       "    }\n",
       "\n",
       "    .dataframe tbody tr th {\n",
       "        vertical-align: top;\n",
       "    }\n",
       "\n",
       "    .dataframe thead th {\n",
       "        text-align: right;\n",
       "    }\n",
       "</style>\n",
       "<table border=\"1\" class=\"dataframe\">\n",
       "  <thead>\n",
       "    <tr style=\"text-align: right;\">\n",
       "      <th></th>\n",
       "      <th>total_bill</th>\n",
       "      <th>tip</th>\n",
       "      <th>number_of_people</th>\n",
       "      <th>price_per_person</th>\n",
       "      <th>sex_Male</th>\n",
       "      <th>day_Sat</th>\n",
       "      <th>day_Sun</th>\n",
       "      <th>day_Thur</th>\n",
       "      <th>time_Lunch</th>\n",
       "      <th>smoker_Yes</th>\n",
       "    </tr>\n",
       "  </thead>\n",
       "  <tbody>\n",
       "    <tr>\n",
       "      <th>1</th>\n",
       "      <td>16.99</td>\n",
       "      <td>1.01</td>\n",
       "      <td>2</td>\n",
       "      <td>8.49</td>\n",
       "      <td>0</td>\n",
       "      <td>0</td>\n",
       "      <td>1</td>\n",
       "      <td>0</td>\n",
       "      <td>0</td>\n",
       "      <td>0</td>\n",
       "    </tr>\n",
       "    <tr>\n",
       "      <th>2</th>\n",
       "      <td>10.34</td>\n",
       "      <td>1.66</td>\n",
       "      <td>3</td>\n",
       "      <td>3.45</td>\n",
       "      <td>1</td>\n",
       "      <td>0</td>\n",
       "      <td>1</td>\n",
       "      <td>0</td>\n",
       "      <td>0</td>\n",
       "      <td>0</td>\n",
       "    </tr>\n",
       "  </tbody>\n",
       "</table>\n",
       "</div>"
      ],
      "text/plain": [
       "   total_bill   tip  number_of_people  price_per_person  sex_Male  day_Sat  \\\n",
       "1       16.99  1.01                 2              8.49         0        0   \n",
       "2       10.34  1.66                 3              3.45         1        0   \n",
       "\n",
       "   day_Sun  day_Thur  time_Lunch  smoker_Yes  \n",
       "1        1         0           0           0  \n",
       "2        1         0           0           0  "
      ]
     },
     "execution_count": 6,
     "metadata": {},
     "output_type": "execute_result"
    }
   ],
   "source": [
    "df.head(2)"
   ]
  },
  {
   "cell_type": "code",
   "execution_count": 7,
   "id": "a0efe0be",
   "metadata": {},
   "outputs": [
    {
     "name": "stdout",
     "output_type": "stream",
     "text": [
      "train <> (136, 10)\n",
      "validate <> (59, 10)\n",
      "test <> (49, 10)\n"
     ]
    }
   ],
   "source": [
    "# For good measure, lets split the data as well\n",
    "\n",
    "train, validate, test = wrg.split_data(df)"
   ]
  },
  {
   "cell_type": "code",
   "execution_count": 8,
   "id": "41f607bd",
   "metadata": {},
   "outputs": [
    {
     "data": {
      "text/html": [
       "<div>\n",
       "<style scoped>\n",
       "    .dataframe tbody tr th:only-of-type {\n",
       "        vertical-align: middle;\n",
       "    }\n",
       "\n",
       "    .dataframe tbody tr th {\n",
       "        vertical-align: top;\n",
       "    }\n",
       "\n",
       "    .dataframe thead th {\n",
       "        text-align: right;\n",
       "    }\n",
       "</style>\n",
       "<table border=\"1\" class=\"dataframe\">\n",
       "  <thead>\n",
       "    <tr style=\"text-align: right;\">\n",
       "      <th></th>\n",
       "      <th>total_bill</th>\n",
       "      <th>number_of_people</th>\n",
       "      <th>price_per_person</th>\n",
       "      <th>sex_Male</th>\n",
       "      <th>day_Sat</th>\n",
       "      <th>day_Sun</th>\n",
       "      <th>day_Thur</th>\n",
       "      <th>time_Lunch</th>\n",
       "      <th>smoker_Yes</th>\n",
       "    </tr>\n",
       "  </thead>\n",
       "  <tbody>\n",
       "    <tr>\n",
       "      <th>195</th>\n",
       "      <td>16.58</td>\n",
       "      <td>2</td>\n",
       "      <td>8.29</td>\n",
       "      <td>1</td>\n",
       "      <td>0</td>\n",
       "      <td>0</td>\n",
       "      <td>1</td>\n",
       "      <td>1</td>\n",
       "      <td>1</td>\n",
       "    </tr>\n",
       "  </tbody>\n",
       "</table>\n",
       "</div>"
      ],
      "text/plain": [
       "     total_bill  number_of_people  price_per_person  sex_Male  day_Sat  \\\n",
       "195       16.58                 2              8.29         1        0   \n",
       "\n",
       "     day_Sun  day_Thur  time_Lunch  smoker_Yes  \n",
       "195        0         1           1           1  "
      ]
     },
     "execution_count": 8,
     "metadata": {},
     "output_type": "execute_result"
    }
   ],
   "source": [
    "# X's and Y's\n",
    "y = 'tip'\n",
    "\n",
    "# split train into X (dataframe, drop target) & y (series, keep target only)\n",
    "x_train = train.drop(columns=[y])\n",
    "y_train = train[y]\n",
    "\n",
    "# split validate into X (dataframe, drop target) & y (series, keep target only)\n",
    "x_validate = validate.drop(columns=[y])\n",
    "y_validate = validate[y]\n",
    "\n",
    "# split test into X (dataframe, drop target) & y (series, keep target only)\n",
    "x_test = test.drop(columns=[y])\n",
    "y_test = test[y]\n",
    "\n",
    "x_train.head(1)"
   ]
  },
  {
   "cell_type": "code",
   "execution_count": 9,
   "id": "23c7b768",
   "metadata": {},
   "outputs": [],
   "source": [
    "# Scale data as well\n",
    "\n",
    "# Make it\n",
    "scaler = skl_pp.MinMaxScaler()\n",
    "\n",
    "# Fit it\n",
    "scaler.fit(x_train)\n",
    "\n",
    "# Use it\n",
    "x_train_scaled = scaler.transform(x_train)\n",
    "x_validate_scaled = scaler.transform(x_validate)\n",
    "x_test_scaled = scaler.transform(x_test)"
   ]
  },
  {
   "cell_type": "markdown",
   "id": "356ee906",
   "metadata": {},
   "source": [
    "# Exercise 1.2\n",
    "\n",
    "- Before using any of the methods discussed in the lesson, which features do you think would be most important for predicting the tip amount? \n",
    "\n",
    "#### I would guess the total bill and number of people would be the largest predictors\n",
    "\n",
    "---------------------------------------------------\n",
    "\n",
    "# Exercise 1.3\n",
    "\n",
    "- Use select k best to select the top 2 features for predicting tip amount. What are they?"
   ]
  },
  {
   "cell_type": "code",
   "execution_count": 10,
   "id": "095cfdcd",
   "metadata": {},
   "outputs": [
    {
     "name": "stdout",
     "output_type": "stream",
     "text": [
      "The two best features to build our model on will be ['total_bill', 'number_of_people']\n"
     ]
    }
   ],
   "source": [
    "# Tip via select-k-best\n",
    "\n",
    "# Make it\n",
    "kbest = skl_fs.SelectKBest(skl_fs.f_regression, k=2)\n",
    "\n",
    "# Fit it\n",
    "kbest.fit(x_train, y_train)\n",
    "\n",
    "# Use it\n",
    "kbest_features = x_train.columns[kbest.get_support()].tolist()\n",
    "\n",
    "\n",
    "print(f'The two best features to build our model on will be', kbest_features)"
   ]
  },
  {
   "cell_type": "markdown",
   "id": "b92a508f",
   "metadata": {},
   "source": [
    "# Exercise 1.4\n",
    "\n",
    "- Use recursive feature elimination to select the top 2 features for tip amount. What are they?"
   ]
  },
  {
   "cell_type": "code",
   "execution_count": 29,
   "id": "d65a48a8",
   "metadata": {},
   "outputs": [
    {
     "name": "stdout",
     "output_type": "stream",
     "text": [
      "According to RFE, the two best features to build our model on will be ['day_Sat', 'day_Sun']\n"
     ]
    }
   ],
   "source": [
    "# Tips features via RFE\n",
    "\n",
    "# Make it\n",
    "lm = skl_lm.LinearRegression()\n",
    "rfe = skl_fs.RFE(lm, n_features_to_select=2)\n",
    "\n",
    "# Fit it\n",
    "rfe.fit(x_train, y_train)\n",
    "\n",
    "# Use it\n",
    "rfe_columns = x_train.columns[rfe.support_].tolist()\n",
    "\n",
    "print(f'According to RFE, the two best features to build our model on will be', rfe_columns)"
   ]
  },
  {
   "cell_type": "markdown",
   "id": "ca13d677",
   "metadata": {},
   "source": [
    "# Exercise 1.5\n",
    "\n",
    "- Why do you think select k best and recursive feature elimination might give different answers for the top features? Does this change as you change the number of features your are selecting?\n",
    "\n",
    "-------------------------------------------\n",
    "\n",
    "#### Both feature selection methods chose features based on different priorities.  The features chosen do change slightly when chosing the number of features"
   ]
  },
  {
   "cell_type": "code",
   "execution_count": 32,
   "id": "cc165d7e",
   "metadata": {},
   "outputs": [
    {
     "name": "stdout",
     "output_type": "stream",
     "text": [
      "According to RFE, the two best features to build our model on will be ['total_bill', 'day_Sat', 'day_Sun']\n"
     ]
    }
   ],
   "source": [
    "# [WITH 3 FEATURES] Tips features via RFE\n",
    "\n",
    "# Make it\n",
    "lm = skl_lm.LinearRegression()\n",
    "rfe = skl_fs.RFE(lm, n_features_to_select=3)\n",
    "\n",
    "# Fit it\n",
    "rfe.fit(x_train, y_train)\n",
    "\n",
    "# Use it\n",
    "rfe_columns = x_train.columns[rfe.support_].tolist()\n",
    "\n",
    "print(f'According to RFE, the two best features to build our model on will be', rfe_columns)"
   ]
  },
  {
   "cell_type": "code",
   "execution_count": 33,
   "id": "7bbcf96a",
   "metadata": {},
   "outputs": [
    {
     "name": "stdout",
     "output_type": "stream",
     "text": [
      "According to RFE, the two best features to build our model on will be ['total_bill', 'number_of_people', 'day_Sat', 'day_Sun']\n"
     ]
    }
   ],
   "source": [
    "# [WITH 4 FEATURES] Tips features via RFE\n",
    "\n",
    "# Make it\n",
    "lm = skl_lm.LinearRegression()\n",
    "rfe = skl_fs.RFE(lm, n_features_to_select=4)\n",
    "\n",
    "# Fit it\n",
    "rfe.fit(x_train, y_train)\n",
    "\n",
    "# Use it\n",
    "rfe_columns = x_train.columns[rfe.support_].tolist()\n",
    "\n",
    "print(f'According to RFE, the two best features to build our model on will be', rfe_columns)"
   ]
  },
  {
   "cell_type": "markdown",
   "id": "bd33afec",
   "metadata": {},
   "source": [
    "# Exercies 2\n",
    "\n",
    "- Write a function named select_kbest that takes in the predictors (X), the target (y), and the number of features to select (k) and returns the names of the top k selected features based on the SelectKBest class. Test your function with the tips dataset. You should see the same results as when you did the process manually."
   ]
  },
  {
   "cell_type": "code",
   "execution_count": 22,
   "id": "e71fe4fd",
   "metadata": {},
   "outputs": [
    {
     "data": {
      "text/plain": [
       "['total_bill', 'number_of_people']"
      ]
     },
     "execution_count": 22,
     "metadata": {},
     "output_type": "execute_result"
    }
   ],
   "source": [
    "# Build the function\n",
    "\n",
    "def select_kbest(x, y, k):\n",
    "    '''\n",
    "    Takes in an x and y dataframe and the number of features to select\n",
    "    and returns the names of the top features based on SelectKBest\n",
    "    '''\n",
    "    # Make it\n",
    "    kbest = skl_fs.SelectKBest(skl_fs.f_regression, k=k)\n",
    "\n",
    "    # Fit tit\n",
    "    kbest.fit(x, y)\n",
    "    \n",
    "    # Use it \n",
    "    return x.columns[kbest.get_support()].tolist()\n",
    "\n",
    "select_kbest(x_train, y_train, 2)"
   ]
  },
  {
   "cell_type": "markdown",
   "id": "ead9b317",
   "metadata": {},
   "source": [
    "# Exercise 3\n",
    "\n",
    "- Write a function named rfe that takes in the predictors, the target, and the number of features to select. It should return the top k features based on the RFE class. Test your function with the tips dataset. You should see the same results as when you did the process manually."
   ]
  },
  {
   "cell_type": "code",
   "execution_count": 36,
   "id": "ddaab2f5",
   "metadata": {},
   "outputs": [],
   "source": [
    "# Build the function\n",
    "\n",
    "def rfe(x, y, k):\n",
    "    '''\n",
    "    Takes in the predictors, the target, and the number of features to select,\n",
    "    and it should return the top k features based on the RFE class. \n",
    "    '''\n",
    "    # Make it\n",
    "    lm = sklearn.linear_model.LinearRegression()\n",
    "    rfe = sklearn.feature_selection.RFE(lm, n_features_to_select=k)\n",
    "\n",
    "    # Fit it\n",
    "    rfe.fit(x, y)\n",
    "    \n",
    "    # Use it\n",
    "    features_to_use = x.columns[rfe.support_].tolist()\n",
    "    \n",
    "    #\n",
    "    #all_rankings = show_features_rankings(x, rfe)\n",
    "    \n",
    "    return features_to_use"
   ]
  },
  {
   "cell_type": "code",
   "execution_count": 37,
   "id": "06ce2612",
   "metadata": {},
   "outputs": [
    {
     "data": {
      "text/plain": [
       "['total_bill', 'day_Sat', 'day_Sun']"
      ]
     },
     "execution_count": 37,
     "metadata": {},
     "output_type": "execute_result"
    }
   ],
   "source": [
    "rfe(x_train, y_train, 3)"
   ]
  },
  {
   "cell_type": "code",
   "execution_count": 40,
   "id": "03757678",
   "metadata": {},
   "outputs": [],
   "source": [
    "def rfe_feature_rankings(x, y, k):\n",
    "    '''\n",
    "    Takes in the predictors, the target, and the number of features to select,\n",
    "    and it should return a database of the features ranked by importance\n",
    "    '''\n",
    "    \n",
    "    # Make it\n",
    "    lm = sklearn.linear_model.LinearRegression()\n",
    "    rfe = sklearn.feature_selection.RFE(lm, n_features_to_select=k)\n",
    "\n",
    "    # Fit it\n",
    "    rfe.fit(x, y)\n",
    "    \n",
    "    var_ranks = rfe.ranking_\n",
    "    var_names = x_train.columns.tolist()\n",
    "    ranks = pd.DataFrame({'Var': var_names, 'Rank': var_ranks})\n",
    "    ranks = ranks.sort_values(by=\"Rank\", ascending=True)\n",
    "    return ranks"
   ]
  },
  {
   "cell_type": "code",
   "execution_count": 41,
   "id": "82b981a0",
   "metadata": {},
   "outputs": [
    {
     "data": {
      "text/html": [
       "<div>\n",
       "<style scoped>\n",
       "    .dataframe tbody tr th:only-of-type {\n",
       "        vertical-align: middle;\n",
       "    }\n",
       "\n",
       "    .dataframe tbody tr th {\n",
       "        vertical-align: top;\n",
       "    }\n",
       "\n",
       "    .dataframe thead th {\n",
       "        text-align: right;\n",
       "    }\n",
       "</style>\n",
       "<table border=\"1\" class=\"dataframe\">\n",
       "  <thead>\n",
       "    <tr style=\"text-align: right;\">\n",
       "      <th></th>\n",
       "      <th>Var</th>\n",
       "      <th>Rank</th>\n",
       "    </tr>\n",
       "  </thead>\n",
       "  <tbody>\n",
       "    <tr>\n",
       "      <th>4</th>\n",
       "      <td>day_Sat</td>\n",
       "      <td>1</td>\n",
       "    </tr>\n",
       "    <tr>\n",
       "      <th>5</th>\n",
       "      <td>day_Sun</td>\n",
       "      <td>1</td>\n",
       "    </tr>\n",
       "    <tr>\n",
       "      <th>0</th>\n",
       "      <td>total_bill</td>\n",
       "      <td>2</td>\n",
       "    </tr>\n",
       "    <tr>\n",
       "      <th>1</th>\n",
       "      <td>number_of_people</td>\n",
       "      <td>3</td>\n",
       "    </tr>\n",
       "    <tr>\n",
       "      <th>2</th>\n",
       "      <td>price_per_person</td>\n",
       "      <td>4</td>\n",
       "    </tr>\n",
       "    <tr>\n",
       "      <th>7</th>\n",
       "      <td>time_Lunch</td>\n",
       "      <td>5</td>\n",
       "    </tr>\n",
       "    <tr>\n",
       "      <th>8</th>\n",
       "      <td>smoker_Yes</td>\n",
       "      <td>6</td>\n",
       "    </tr>\n",
       "    <tr>\n",
       "      <th>6</th>\n",
       "      <td>day_Thur</td>\n",
       "      <td>7</td>\n",
       "    </tr>\n",
       "    <tr>\n",
       "      <th>3</th>\n",
       "      <td>sex_Male</td>\n",
       "      <td>8</td>\n",
       "    </tr>\n",
       "  </tbody>\n",
       "</table>\n",
       "</div>"
      ],
      "text/plain": [
       "                Var  Rank\n",
       "4           day_Sat     1\n",
       "5           day_Sun     1\n",
       "0        total_bill     2\n",
       "1  number_of_people     3\n",
       "2  price_per_person     4\n",
       "7        time_Lunch     5\n",
       "8        smoker_Yes     6\n",
       "6          day_Thur     7\n",
       "3          sex_Male     8"
      ]
     },
     "execution_count": 41,
     "metadata": {},
     "output_type": "execute_result"
    }
   ],
   "source": [
    "rfe_feature_rankings(x_train, y_train, 2)"
   ]
  },
  {
   "cell_type": "markdown",
   "id": "64073e7b",
   "metadata": {},
   "source": [
    "# Exercise 4\n",
    "\n",
    "- Load the swiss dataset and use all the other features to predict Fertility. Find the top 3 features using both select k best and recursive feature elimination (use the functions you just built to help you out)."
   ]
  },
  {
   "cell_type": "code",
   "execution_count": 38,
   "id": "59e846be",
   "metadata": {},
   "outputs": [
    {
     "data": {
      "text/html": [
       "<div>\n",
       "<style scoped>\n",
       "    .dataframe tbody tr th:only-of-type {\n",
       "        vertical-align: middle;\n",
       "    }\n",
       "\n",
       "    .dataframe tbody tr th {\n",
       "        vertical-align: top;\n",
       "    }\n",
       "\n",
       "    .dataframe thead th {\n",
       "        text-align: right;\n",
       "    }\n",
       "</style>\n",
       "<table border=\"1\" class=\"dataframe\">\n",
       "  <thead>\n",
       "    <tr style=\"text-align: right;\">\n",
       "      <th></th>\n",
       "      <th>Fertility</th>\n",
       "      <th>Agriculture</th>\n",
       "      <th>Examination</th>\n",
       "      <th>Education</th>\n",
       "      <th>Catholic</th>\n",
       "      <th>Infant.Mortality</th>\n",
       "    </tr>\n",
       "  </thead>\n",
       "  <tbody>\n",
       "    <tr>\n",
       "      <th>Courtelary</th>\n",
       "      <td>80.2</td>\n",
       "      <td>17.0</td>\n",
       "      <td>15</td>\n",
       "      <td>12</td>\n",
       "      <td>9.96</td>\n",
       "      <td>22.2</td>\n",
       "    </tr>\n",
       "    <tr>\n",
       "      <th>Delemont</th>\n",
       "      <td>83.1</td>\n",
       "      <td>45.1</td>\n",
       "      <td>6</td>\n",
       "      <td>9</td>\n",
       "      <td>84.84</td>\n",
       "      <td>22.2</td>\n",
       "    </tr>\n",
       "    <tr>\n",
       "      <th>Franches-Mnt</th>\n",
       "      <td>92.5</td>\n",
       "      <td>39.7</td>\n",
       "      <td>5</td>\n",
       "      <td>5</td>\n",
       "      <td>93.40</td>\n",
       "      <td>20.2</td>\n",
       "    </tr>\n",
       "  </tbody>\n",
       "</table>\n",
       "</div>"
      ],
      "text/plain": [
       "              Fertility  Agriculture  Examination  Education  Catholic  \\\n",
       "Courtelary         80.2         17.0           15         12      9.96   \n",
       "Delemont           83.1         45.1            6          9     84.84   \n",
       "Franches-Mnt       92.5         39.7            5          5     93.40   \n",
       "\n",
       "              Infant.Mortality  \n",
       "Courtelary                22.2  \n",
       "Delemont                  22.2  \n",
       "Franches-Mnt              20.2  "
      ]
     },
     "execution_count": 38,
     "metadata": {},
     "output_type": "execute_result"
    }
   ],
   "source": [
    "df = data('swiss')\n",
    "df.head(3)"
   ]
  },
  {
   "cell_type": "code",
   "execution_count": null,
   "id": "bf0ba0f5",
   "metadata": {},
   "outputs": [],
   "source": []
  }
 ],
 "metadata": {
  "kernelspec": {
   "display_name": "Python 3 (ipykernel)",
   "language": "python",
   "name": "python3"
  },
  "language_info": {
   "codemirror_mode": {
    "name": "ipython",
    "version": 3
   },
   "file_extension": ".py",
   "mimetype": "text/x-python",
   "name": "python",
   "nbconvert_exporter": "python",
   "pygments_lexer": "ipython3",
   "version": "3.9.7"
  }
 },
 "nbformat": 4,
 "nbformat_minor": 5
}
