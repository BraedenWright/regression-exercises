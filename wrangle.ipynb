{
 "cells": [
  {
   "cell_type": "markdown",
   "id": "2dd26838",
   "metadata": {},
   "source": [
    "# Imports"
   ]
  },
  {
   "cell_type": "code",
   "execution_count": 1,
   "id": "883a7a56",
   "metadata": {},
   "outputs": [],
   "source": [
    "import numpy as np\n",
    "import pandas as pd\n",
    "import matplotlib.pyplot as plt\n",
    "import seaborn as sns\n",
    "\n",
    "from sklearn.model_selection import train_test_split\n",
    "\n",
    "from env import user, password, host\n",
    "import warnings\n",
    "warnings.filterwarnings('ignore')"
   ]
  },
  {
   "cell_type": "markdown",
   "id": "96c3cdf5",
   "metadata": {},
   "source": [
    "# Aquire"
   ]
  },
  {
   "cell_type": "code",
   "execution_count": 2,
   "id": "2313e4d9",
   "metadata": {},
   "outputs": [
    {
     "data": {
      "text/html": [
       "<div>\n",
       "<style scoped>\n",
       "    .dataframe tbody tr th:only-of-type {\n",
       "        vertical-align: middle;\n",
       "    }\n",
       "\n",
       "    .dataframe tbody tr th {\n",
       "        vertical-align: top;\n",
       "    }\n",
       "\n",
       "    .dataframe thead th {\n",
       "        text-align: right;\n",
       "    }\n",
       "</style>\n",
       "<table border=\"1\" class=\"dataframe\">\n",
       "  <thead>\n",
       "    <tr style=\"text-align: right;\">\n",
       "      <th></th>\n",
       "      <th>bedroomcnt</th>\n",
       "      <th>bathroomcnt</th>\n",
       "      <th>calculatedfinishedsquarefeet</th>\n",
       "      <th>taxvaluedollarcnt</th>\n",
       "      <th>yearbuilt</th>\n",
       "      <th>taxamount</th>\n",
       "      <th>fips</th>\n",
       "    </tr>\n",
       "  </thead>\n",
       "  <tbody>\n",
       "    <tr>\n",
       "      <th>0</th>\n",
       "      <td>0.0</td>\n",
       "      <td>0.0</td>\n",
       "      <td>NaN</td>\n",
       "      <td>27516.0</td>\n",
       "      <td>NaN</td>\n",
       "      <td>NaN</td>\n",
       "      <td>6037.0</td>\n",
       "    </tr>\n",
       "    <tr>\n",
       "      <th>1</th>\n",
       "      <td>0.0</td>\n",
       "      <td>0.0</td>\n",
       "      <td>NaN</td>\n",
       "      <td>10.0</td>\n",
       "      <td>NaN</td>\n",
       "      <td>NaN</td>\n",
       "      <td>6037.0</td>\n",
       "    </tr>\n",
       "    <tr>\n",
       "      <th>2</th>\n",
       "      <td>0.0</td>\n",
       "      <td>0.0</td>\n",
       "      <td>NaN</td>\n",
       "      <td>10.0</td>\n",
       "      <td>NaN</td>\n",
       "      <td>NaN</td>\n",
       "      <td>6037.0</td>\n",
       "    </tr>\n",
       "    <tr>\n",
       "      <th>3</th>\n",
       "      <td>0.0</td>\n",
       "      <td>0.0</td>\n",
       "      <td>NaN</td>\n",
       "      <td>2108.0</td>\n",
       "      <td>NaN</td>\n",
       "      <td>174.21</td>\n",
       "      <td>6037.0</td>\n",
       "    </tr>\n",
       "    <tr>\n",
       "      <th>4</th>\n",
       "      <td>4.0</td>\n",
       "      <td>2.0</td>\n",
       "      <td>3633.0</td>\n",
       "      <td>296425.0</td>\n",
       "      <td>2005.0</td>\n",
       "      <td>6941.39</td>\n",
       "      <td>6037.0</td>\n",
       "    </tr>\n",
       "  </tbody>\n",
       "</table>\n",
       "</div>"
      ],
      "text/plain": [
       "   bedroomcnt  bathroomcnt  calculatedfinishedsquarefeet  taxvaluedollarcnt  \\\n",
       "0         0.0          0.0                           NaN            27516.0   \n",
       "1         0.0          0.0                           NaN               10.0   \n",
       "2         0.0          0.0                           NaN               10.0   \n",
       "3         0.0          0.0                           NaN             2108.0   \n",
       "4         4.0          2.0                        3633.0           296425.0   \n",
       "\n",
       "   yearbuilt  taxamount    fips  \n",
       "0        NaN        NaN  6037.0  \n",
       "1        NaN        NaN  6037.0  \n",
       "2        NaN        NaN  6037.0  \n",
       "3        NaN     174.21  6037.0  \n",
       "4     2005.0    6941.39  6037.0  "
      ]
     },
     "execution_count": 2,
     "metadata": {},
     "output_type": "execute_result"
    }
   ],
   "source": [
    "url = f\"mysql+pymysql://{user}:{password}@{host}/zillow\"\n",
    "\n",
    "query = '''\n",
    "        SELECT bedroomcnt, bathroomcnt, calculatedfinishedsquarefeet, taxvaluedollarcnt, yearbuilt, taxamount, fips\n",
    "        FROM properties_2017\n",
    "        LEFT JOIN propertylandusetype USING(propertylandusetypeid)\n",
    "        WHERE propertylandusedesc IN ('Single Family Residential', 'Inferred Single Family Residential')\n",
    "        '''\n",
    "\n",
    "df = pd.read_sql(query, url)\n",
    "df.head()"
   ]
  },
  {
   "cell_type": "code",
   "execution_count": 3,
   "id": "341d37de",
   "metadata": {},
   "outputs": [
    {
     "data": {
      "text/html": [
       "<div>\n",
       "<style scoped>\n",
       "    .dataframe tbody tr th:only-of-type {\n",
       "        vertical-align: middle;\n",
       "    }\n",
       "\n",
       "    .dataframe tbody tr th {\n",
       "        vertical-align: top;\n",
       "    }\n",
       "\n",
       "    .dataframe thead th {\n",
       "        text-align: right;\n",
       "    }\n",
       "</style>\n",
       "<table border=\"1\" class=\"dataframe\">\n",
       "  <thead>\n",
       "    <tr style=\"text-align: right;\">\n",
       "      <th></th>\n",
       "      <th>bedroomcnt</th>\n",
       "      <th>bathroomcnt</th>\n",
       "      <th>calculatedfinishedsquarefeet</th>\n",
       "      <th>taxvaluedollarcnt</th>\n",
       "      <th>yearbuilt</th>\n",
       "      <th>taxamount</th>\n",
       "      <th>fips</th>\n",
       "    </tr>\n",
       "  </thead>\n",
       "  <tbody>\n",
       "    <tr>\n",
       "      <th>count</th>\n",
       "      <td>2.152853e+06</td>\n",
       "      <td>2.152853e+06</td>\n",
       "      <td>2.144379e+06</td>\n",
       "      <td>2.152371e+06</td>\n",
       "      <td>2.143526e+06</td>\n",
       "      <td>2.148422e+06</td>\n",
       "      <td>2.152864e+06</td>\n",
       "    </tr>\n",
       "    <tr>\n",
       "      <th>mean</th>\n",
       "      <td>3.287195e+00</td>\n",
       "      <td>2.230687e+00</td>\n",
       "      <td>1.862855e+03</td>\n",
       "      <td>4.618961e+05</td>\n",
       "      <td>1.960950e+03</td>\n",
       "      <td>5.634864e+03</td>\n",
       "      <td>6.048377e+03</td>\n",
       "    </tr>\n",
       "    <tr>\n",
       "      <th>std</th>\n",
       "      <td>9.547568e-01</td>\n",
       "      <td>9.992805e-01</td>\n",
       "      <td>1.222125e+03</td>\n",
       "      <td>6.996759e+05</td>\n",
       "      <td>2.216220e+01</td>\n",
       "      <td>8.178909e+03</td>\n",
       "      <td>2.043329e+01</td>\n",
       "    </tr>\n",
       "    <tr>\n",
       "      <th>min</th>\n",
       "      <td>0.000000e+00</td>\n",
       "      <td>0.000000e+00</td>\n",
       "      <td>1.000000e+00</td>\n",
       "      <td>1.000000e+00</td>\n",
       "      <td>1.801000e+03</td>\n",
       "      <td>1.850000e+00</td>\n",
       "      <td>6.037000e+03</td>\n",
       "    </tr>\n",
       "    <tr>\n",
       "      <th>25%</th>\n",
       "      <td>3.000000e+00</td>\n",
       "      <td>2.000000e+00</td>\n",
       "      <td>1.257000e+03</td>\n",
       "      <td>1.881700e+05</td>\n",
       "      <td>1.949000e+03</td>\n",
       "      <td>2.534972e+03</td>\n",
       "      <td>6.037000e+03</td>\n",
       "    </tr>\n",
       "    <tr>\n",
       "      <th>50%</th>\n",
       "      <td>3.000000e+00</td>\n",
       "      <td>2.000000e+00</td>\n",
       "      <td>1.623000e+03</td>\n",
       "      <td>3.276710e+05</td>\n",
       "      <td>1.958000e+03</td>\n",
       "      <td>4.108945e+03</td>\n",
       "      <td>6.037000e+03</td>\n",
       "    </tr>\n",
       "    <tr>\n",
       "      <th>75%</th>\n",
       "      <td>4.000000e+00</td>\n",
       "      <td>3.000000e+00</td>\n",
       "      <td>2.208000e+03</td>\n",
       "      <td>5.345270e+05</td>\n",
       "      <td>1.976000e+03</td>\n",
       "      <td>6.414318e+03</td>\n",
       "      <td>6.059000e+03</td>\n",
       "    </tr>\n",
       "    <tr>\n",
       "      <th>max</th>\n",
       "      <td>2.500000e+01</td>\n",
       "      <td>3.200000e+01</td>\n",
       "      <td>9.525760e+05</td>\n",
       "      <td>9.842891e+07</td>\n",
       "      <td>2.016000e+03</td>\n",
       "      <td>1.337756e+06</td>\n",
       "      <td>6.111000e+03</td>\n",
       "    </tr>\n",
       "  </tbody>\n",
       "</table>\n",
       "</div>"
      ],
      "text/plain": [
       "         bedroomcnt   bathroomcnt  calculatedfinishedsquarefeet  \\\n",
       "count  2.152853e+06  2.152853e+06                  2.144379e+06   \n",
       "mean   3.287195e+00  2.230687e+00                  1.862855e+03   \n",
       "std    9.547568e-01  9.992805e-01                  1.222125e+03   \n",
       "min    0.000000e+00  0.000000e+00                  1.000000e+00   \n",
       "25%    3.000000e+00  2.000000e+00                  1.257000e+03   \n",
       "50%    3.000000e+00  2.000000e+00                  1.623000e+03   \n",
       "75%    4.000000e+00  3.000000e+00                  2.208000e+03   \n",
       "max    2.500000e+01  3.200000e+01                  9.525760e+05   \n",
       "\n",
       "       taxvaluedollarcnt     yearbuilt     taxamount          fips  \n",
       "count       2.152371e+06  2.143526e+06  2.148422e+06  2.152864e+06  \n",
       "mean        4.618961e+05  1.960950e+03  5.634864e+03  6.048377e+03  \n",
       "std         6.996759e+05  2.216220e+01  8.178909e+03  2.043329e+01  \n",
       "min         1.000000e+00  1.801000e+03  1.850000e+00  6.037000e+03  \n",
       "25%         1.881700e+05  1.949000e+03  2.534972e+03  6.037000e+03  \n",
       "50%         3.276710e+05  1.958000e+03  4.108945e+03  6.037000e+03  \n",
       "75%         5.345270e+05  1.976000e+03  6.414318e+03  6.059000e+03  \n",
       "max         9.842891e+07  2.016000e+03  1.337756e+06  6.111000e+03  "
      ]
     },
     "execution_count": 3,
     "metadata": {},
     "output_type": "execute_result"
    }
   ],
   "source": [
    "df.describe()"
   ]
  },
  {
   "cell_type": "code",
   "execution_count": 4,
   "id": "c2fe4e40",
   "metadata": {},
   "outputs": [
    {
     "name": "stdout",
     "output_type": "stream",
     "text": [
      "<class 'pandas.core.frame.DataFrame'>\n",
      "RangeIndex: 2152864 entries, 0 to 2152863\n",
      "Data columns (total 7 columns):\n",
      " #   Column                        Non-Null Count    Dtype  \n",
      "---  ------                        --------------    -----  \n",
      " 0   bedroomcnt                    2152853 non-null  float64\n",
      " 1   bathroomcnt                   2152853 non-null  float64\n",
      " 2   calculatedfinishedsquarefeet  2144379 non-null  float64\n",
      " 3   taxvaluedollarcnt             2152371 non-null  float64\n",
      " 4   yearbuilt                     2143526 non-null  float64\n",
      " 5   taxamount                     2148422 non-null  float64\n",
      " 6   fips                          2152864 non-null  float64\n",
      "dtypes: float64(7)\n",
      "memory usage: 115.0 MB\n"
     ]
    }
   ],
   "source": [
    "df.info(null_counts=True)"
   ]
  },
  {
   "cell_type": "code",
   "execution_count": 5,
   "id": "135567f3",
   "metadata": {},
   "outputs": [
    {
     "data": {
      "text/plain": [
       "bedroomcnt                        11\n",
       "bathroomcnt                       11\n",
       "calculatedfinishedsquarefeet    8485\n",
       "taxvaluedollarcnt                493\n",
       "yearbuilt                       9338\n",
       "taxamount                       4442\n",
       "fips                               0\n",
       "dtype: int64"
      ]
     },
     "execution_count": 5,
     "metadata": {},
     "output_type": "execute_result"
    }
   ],
   "source": [
    "# Looks like fips is the only column without any null or missing values\n",
    "# Lets check the dmg\n",
    "df.isnull().sum()"
   ]
  },
  {
   "cell_type": "code",
   "execution_count": 6,
   "id": "fb69eece",
   "metadata": {},
   "outputs": [],
   "source": [
    "# These column names are too much\n",
    "# Rename Columns\n",
    "\n",
    "df = df.rename(columns = {\n",
    "                          'bedroomcnt':'bedrooms', \n",
    "                          'bathroomcnt':'bathrooms', \n",
    "                          'calculatedfinishedsquarefeet':'sqr_feet',\n",
    "                          'taxvaluedollarcnt':'tax_value', \n",
    "                          'yearbuilt':'year_built'})"
   ]
  },
  {
   "cell_type": "code",
   "execution_count": 10,
   "id": "86539505",
   "metadata": {},
   "outputs": [
    {
     "data": {
      "text/html": [
       "<div>\n",
       "<style scoped>\n",
       "    .dataframe tbody tr th:only-of-type {\n",
       "        vertical-align: middle;\n",
       "    }\n",
       "\n",
       "    .dataframe tbody tr th {\n",
       "        vertical-align: top;\n",
       "    }\n",
       "\n",
       "    .dataframe thead th {\n",
       "        text-align: right;\n",
       "    }\n",
       "</style>\n",
       "<table border=\"1\" class=\"dataframe\">\n",
       "  <thead>\n",
       "    <tr style=\"text-align: right;\">\n",
       "      <th></th>\n",
       "      <th>bedrooms</th>\n",
       "      <th>bathrooms</th>\n",
       "      <th>sqr_feet</th>\n",
       "      <th>tax_value</th>\n",
       "      <th>year_built</th>\n",
       "      <th>taxamount</th>\n",
       "      <th>fips</th>\n",
       "    </tr>\n",
       "  </thead>\n",
       "  <tbody>\n",
       "    <tr>\n",
       "      <th>0</th>\n",
       "      <td>0.0</td>\n",
       "      <td>0.0</td>\n",
       "      <td>NaN</td>\n",
       "      <td>27516.0</td>\n",
       "      <td>NaN</td>\n",
       "      <td>NaN</td>\n",
       "      <td>6037.0</td>\n",
       "    </tr>\n",
       "    <tr>\n",
       "      <th>1</th>\n",
       "      <td>0.0</td>\n",
       "      <td>0.0</td>\n",
       "      <td>NaN</td>\n",
       "      <td>10.0</td>\n",
       "      <td>NaN</td>\n",
       "      <td>NaN</td>\n",
       "      <td>6037.0</td>\n",
       "    </tr>\n",
       "    <tr>\n",
       "      <th>2</th>\n",
       "      <td>0.0</td>\n",
       "      <td>0.0</td>\n",
       "      <td>NaN</td>\n",
       "      <td>10.0</td>\n",
       "      <td>NaN</td>\n",
       "      <td>NaN</td>\n",
       "      <td>6037.0</td>\n",
       "    </tr>\n",
       "  </tbody>\n",
       "</table>\n",
       "</div>"
      ],
      "text/plain": [
       "   bedrooms  bathrooms  sqr_feet  tax_value  year_built  taxamount    fips\n",
       "0       0.0        0.0       NaN    27516.0         NaN        NaN  6037.0\n",
       "1       0.0        0.0       NaN       10.0         NaN        NaN  6037.0\n",
       "2       0.0        0.0       NaN       10.0         NaN        NaN  6037.0"
      ]
     },
     "execution_count": 10,
     "metadata": {},
     "output_type": "execute_result"
    }
   ],
   "source": [
    "df.head(3)"
   ]
  },
  {
   "cell_type": "code",
   "execution_count": 18,
   "id": "b7c54d0e",
   "metadata": {},
   "outputs": [],
   "source": [
    "# Drop the null values so that our data is consistent\n",
    "df = df.dropna()"
   ]
  },
  {
   "cell_type": "code",
   "execution_count": 19,
   "id": "4981c465",
   "metadata": {},
   "outputs": [
    {
     "data": {
      "text/plain": [
       "1955.0    84329\n",
       "1950.0    71606\n",
       "1954.0    69069\n",
       "1953.0    62270\n",
       "1956.0    61858\n",
       "          ...  \n",
       "1855.0        1\n",
       "1879.0        1\n",
       "1833.0        1\n",
       "1840.0        1\n",
       "1874.0        1\n",
       "Name: year_built, Length: 153, dtype: int64"
      ]
     },
     "execution_count": 19,
     "metadata": {},
     "output_type": "execute_result"
    }
   ],
   "source": [
    "# I also feel our  year built and fips should not be float dtypes\n",
    "# The other columns are proper counts of stuff, but year built and fips apear to be more catagorical\n",
    "\n",
    "df.year_built.value_counts()"
   ]
  },
  {
   "cell_type": "code",
   "execution_count": 20,
   "id": "7b718acf",
   "metadata": {},
   "outputs": [
    {
     "data": {
      "text/plain": [
       "6037.0    1425207\n",
       "6059.0     552057\n",
       "6111.0     162971\n",
       "Name: fips, dtype: int64"
      ]
     },
     "execution_count": 20,
     "metadata": {},
     "output_type": "execute_result"
    }
   ],
   "source": [
    "df.fips.value_counts()"
   ]
  },
  {
   "cell_type": "code",
   "execution_count": 21,
   "id": "6a372e11",
   "metadata": {},
   "outputs": [],
   "source": [
    "# Yes, changing year_built and fips top dtype(object)\n",
    "df.year_built = df.year_built.astype(object)\n",
    "df.fips = df.fips.astype(object)"
   ]
  },
  {
   "cell_type": "code",
   "execution_count": 22,
   "id": "159758c9",
   "metadata": {},
   "outputs": [
    {
     "name": "stdout",
     "output_type": "stream",
     "text": [
      "<class 'pandas.core.frame.DataFrame'>\n",
      "Int64Index: 2140235 entries, 4 to 2152863\n",
      "Data columns (total 7 columns):\n",
      " #   Column      Dtype  \n",
      "---  ------      -----  \n",
      " 0   bedrooms    float64\n",
      " 1   bathrooms   float64\n",
      " 2   sqr_feet    float64\n",
      " 3   tax_value   float64\n",
      " 4   year_built  object \n",
      " 5   taxamount   float64\n",
      " 6   fips        object \n",
      "dtypes: float64(5), object(2)\n",
      "memory usage: 130.6+ MB\n"
     ]
    }
   ],
   "source": [
    "df.info()"
   ]
  },
  {
   "cell_type": "code",
   "execution_count": null,
   "id": "ebf7cbde",
   "metadata": {},
   "outputs": [],
   "source": []
  }
 ],
 "metadata": {
  "kernelspec": {
   "display_name": "Python 3 (ipykernel)",
   "language": "python",
   "name": "python3"
  },
  "language_info": {
   "codemirror_mode": {
    "name": "ipython",
    "version": 3
   },
   "file_extension": ".py",
   "mimetype": "text/x-python",
   "name": "python",
   "nbconvert_exporter": "python",
   "pygments_lexer": "ipython3",
   "version": "3.9.7"
  }
 },
 "nbformat": 4,
 "nbformat_minor": 5
}
